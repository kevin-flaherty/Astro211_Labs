{
 "cells": [
  {
   "cell_type": "markdown",
   "metadata": {},
   "source": [
    "# ASTR 211 Spectroscopy Lab (April 20, 2020)"
   ]
  },
  {
   "cell_type": "markdown",
   "metadata": {},
   "source": [
    "## Names: [Insert your name here]\n",
    "\n",
    "Today's lab has two parts. \n",
    "\n",
    "In Part I, you'll examine CCD data from spectroscopic science and calibration observations. You'll start learning some of the ways in which spectroscopic data reductions are different from imaging data reductions.\n",
    "\n",
    "In Part II, you'll work with real spectra of a mystery galaxy. You'll determine the galaxy's redshift, measure its emission line fluxes and their FWHM, and decide whether the galaxy's gas is being heated by stars or by an active galactic nucleus (a supermassive black hole). \n",
    "\n",
    "Before starting the lab, you should have the following:\n",
    "\n",
    "(1) ds9 or AstroImageJ installed (https://sites.google.com/cfa.harvard.edu/saoimageds9 or https://www.astro.louisville.edu/software/astroimagej/)\n",
    "\n",
    "(2) the specutils package for python; \n",
    "you can install it via the command line using: conda install -c conda-forge specutils\n",
    "\n",
    "(3) the five fits images included in the lab folder\n",
    "\n",
    "[Credit: I've adapted parts of this lab from tutorials by Steve Crawford and the astropy team]"
   ]
  },
  {
   "cell_type": "markdown",
   "metadata": {},
   "source": [
    "## Part I: Introduction to Spectroscopic CCD Data\n",
    "\n",
    "Using ds9 or AstroImageJ, open:\n",
    "\n",
    "(1) masterbias.fits, an example of a Master Bias frame\n",
    "\n",
    "(2) masterflat.fits, an example of a Master Flat frame\n",
    "\n",
    "(3) star_spectrum_raw.fits, an example of a raw (unprocessed) stellar spectrum\n",
    "\n",
    "Adjust the scaling and move your cursor around so you can get a sense of the different count levels in the images. (You'll notice that these particular images are long and narrow. Those are the dimensions of this particular CCD detector, but other spectroscopic detectors could have other dimensions.)\n",
    "\n",
    "> **Q:** How do these images seem similar to or different from the bias, flat, and science frames we use for imaging observations? \n",
    "\n",
    "Next, we'll examine some of these data more closely in python."
   ]
  },
  {
   "cell_type": "code",
   "execution_count": null,
   "metadata": {},
   "outputs": [],
   "source": [
    "# Initial imports\n",
    "import numpy as np\n",
    "import matplotlib.pyplot as plt\n",
    "from astropy.io import fits\n",
    "\n",
    "# Run the %matplotlib magic command to enable inline plotting\n",
    "# in the current notebook. \n",
    "%matplotlib inline"
   ]
  },
  {
   "cell_type": "code",
   "execution_count": null,
   "metadata": {},
   "outputs": [],
   "source": [
    "# read in the master flat\n",
    "flatname = 'lab/masterflat.fits' #replace \"lab\" with the directory you downloaded the file to\n",
    "flat_hdulist = fits.open(flatname)\n",
    "flat = flat_hdulist[0].data.astype(np.float) #convert the file to an array of floats\n",
    "flat.shape"
   ]
  },
  {
   "cell_type": "markdown",
   "metadata": {},
   "source": [
    "Above, we've printed the dimensions of the array. You should have 1022 elements in the x-direction and 41 elements in the y-direction. Note that this configuration might be rotated 90 degrees from what you saw in ds9 or AstroImageJ (at least, that's what happened for me!).\n",
    "\n",
    "The long (x) direction is our \"dispersion\" direction. Different wavelengths of light fall on different x positions of the detector. The short (y) direction is our \"cross-dispersion\" direction. Each column of constant x will trace the same wavelength light at different spatial locations. \n",
    "\n",
    "Let's look at the overall wavelength behavior of our flat field. To do this, we'll find the mean number of counts at each x position."
   ]
  },
  {
   "cell_type": "code",
   "execution_count": null,
   "metadata": {},
   "outputs": [],
   "source": [
    "fx = flat.sum(axis=1)/flat.shape[1] #sum along the y-direction and divide by the number of y-pixels\n",
    "xarr = np.arange(len(fx)) #create an array corresponding to x position"
   ]
  },
  {
   "cell_type": "code",
   "execution_count": null,
   "metadata": {
    "scrolled": true
   },
   "outputs": [],
   "source": [
    "plt.plot(xarr,fx)\n",
    "plt.xlabel('x')\n",
    "plt.ylabel('Mean Counts')\n",
    "plt.show()"
   ]
  },
  {
   "cell_type": "markdown",
   "metadata": {},
   "source": [
    "Well, that's a weird-looking flat-field! Remember that each x position corresponds to a different wavelength. The quartz lamps we use for flat-fielding are typically ~3000 K, so we've essentially taken a spectrum of a 3000 K blackbody, which peaks in the red.\n",
    "\n",
    "The goal of a flat-field is to trace pixel-to-pixel variations in CCD sensitivity. For flat-fielding with imaging observations, we normalized our master flat to 1 by dividing the flat-field image by its median.\n",
    "\n",
    "> **Q:** Why would it be a bad idea to divide our spectroscopic master flat by its median value? What might we do instead?\n",
    "\n",
    "Here's how we'll proceed..."
   ]
  },
  {
   "cell_type": "code",
   "execution_count": null,
   "metadata": {},
   "outputs": [],
   "source": [
    "from astropy import modeling as mod #first, we'll import some fitting routines"
   ]
  },
  {
   "cell_type": "markdown",
   "metadata": {},
   "source": [
    "> **Q:** The cell below fits a model to our flat field. The goal is to capture the overall spectral shape of the lamp, but we don't need (or want) to capture every small bump and wiggle. \n",
    ">\n",
    "> (a) Modify the order of the fit until you think the fit is satisfactory.\n",
    ">\n",
    "> (b) To check your fit, plot the residuals (Fit-Data) as a percent of the original data value. We want to fit our flat-field to a precision of less than 1%. You can ignore the large spike at x>1000, which is just related to hitting the edge of the detector.\n",
    ">\n",
    "> (c) Use your fit to normalize our 1D flat-field (that's the array named fx). Plot the normalized fx vs. xarr and check that it has values hovering around 1. (Note that in reality, we'd want to normalize the 2D flat field array named \"flat\", but here we're just checking how well we did the fitting)."
   ]
  },
  {
   "cell_type": "code",
   "execution_count": null,
   "metadata": {},
   "outputs": [],
   "source": [
    "# next, we'll fit a function to capture the overall spectral shape of the lamp.\n",
    "# We call this fit the \"response function\"\n",
    "cheb = mod.models.Chebyshev1D(1) #this generates a Chebyshev function of order 1.\n",
    "#Higher orders have more free parameters and can fit more complex shapes\n",
    "fitter = mod.fitting.LinearLSQFitter()\n",
    "resp_func = fitter(cheb, xarr, fx)\n",
    "\n",
    "plt.plot(xarr,fx) #plots our original flat field\n",
    "plt.plot(xarr,resp_func(xarr),'r') #plots our modeled response function\n",
    "plt.xlabel('x')\n",
    "plt.ylabel('counts')\n",
    "plt.show()\n",
    "\n",
    "#insert plot of residuals here. be sure to label axes!\n",
    "\n",
    "#insert plot of normalized flat here\n"
   ]
  },
  {
   "cell_type": "markdown",
   "metadata": {},
   "source": [
    "Now, let's take a look at some reduced spectral data. We'll read in the image star_spectrum_proc.fits, which has been bias-subtracted and divided by a normalized flat field. "
   ]
  },
  {
   "cell_type": "code",
   "execution_count": null,
   "metadata": {},
   "outputs": [],
   "source": [
    "#read in the file\n",
    "starname = 'lab/star_spectrum_proc.fits' #replace \"lab\" with the directory you downloaded the file to\n",
    "star_hdulist = fits.open(starname)\n",
    "star = star_hdulist[0].data.astype(np.float) #convert the file to an array of floats\n"
   ]
  },
  {
   "cell_type": "markdown",
   "metadata": {},
   "source": [
    "Here's what the data look like on average along the x-direction (the equivalent of what we did before for the flat field)."
   ]
  },
  {
   "cell_type": "code",
   "execution_count": null,
   "metadata": {},
   "outputs": [],
   "source": [
    "fx = star.sum(axis=1)/star.shape[1] #sum along the y-direction and divide by the number of y-pixels\n",
    "xarr = np.arange(len(fx)) #create an array corresponding to x position\n",
    "plt.plot(xarr,fx)\n",
    "plt.xlabel('x')\n",
    "plt.ylabel('Mean Counts')\n",
    "plt.show()"
   ]
  },
  {
   "cell_type": "markdown",
   "metadata": {},
   "source": [
    "You can see some overall continuum emission, plus several absorption lines. Now, let's also look at the shape of our data along the y-direction. Here, we'll just take a slice at one particular x value. "
   ]
  },
  {
   "cell_type": "code",
   "execution_count": null,
   "metadata": {},
   "outputs": [],
   "source": [
    "yarr=np.arange(star.shape[1]) #make an array of y-values\n",
    "plt.plot(yarr,star[1,0:len(yarr)]) #plot x=1 at all y-values\n",
    "plt.xlabel('y')\n",
    "plt.ylabel('counts')\n",
    "plt.show()"
   ]
  },
  {
   "cell_type": "markdown",
   "metadata": {},
   "source": [
    "In the plot above, you can see that our targeted star covers ~10 pixels, from y=15 to y=25. What about the other pixels (y<15 and y>25)?\n",
    "\n",
    "> **Q:** In the next cell, use the matplotlib ylim command to change the y-axis limits to create a zoomed in version of the plot above, so that you can see the counts in the pixels that *don't* correspond to the central star."
   ]
  },
  {
   "cell_type": "code",
   "execution_count": null,
   "metadata": {},
   "outputs": [],
   "source": [
    "plt.plot(yarr,star[1,0:len(yarr)])\n",
    "#plt.ylim(min,max) #uncomment this and put in your desired limits for min and max.\n",
    "plt.xlabel('y')\n",
    "plt.ylabel('counts')\n",
    "plt.show()"
   ]
  },
  {
   "cell_type": "markdown",
   "metadata": {},
   "source": [
    "> **Q:** What would you estimate (by eye) as the average number of counts in the off-source region? Where do these counts come from?"
   ]
  },
  {
   "cell_type": "markdown",
   "metadata": {},
   "source": [
    "Just as with aperture photometry, we need to subtract this background level of counts from our spectrum. In the cell below, we'll measure the mean counts in this background region at each wavelength position x and subtract it from our data.\n",
    "\n",
    "> **Q:** Edit the cell below so that none of the pixels with emission from the star are included in the \"sky\" region. "
   ]
  },
  {
   "cell_type": "code",
   "execution_count": null,
   "metadata": {},
   "outputs": [],
   "source": [
    "sky=np.delete(star,np.s_[15:16],1) #deletes the specified pixel columns. \n",
    "#Currently, only column 15 is deleted\n",
    "yarr2=np.delete(yarr,np.s_[15:16])\n",
    "\n",
    "plt.plot(yarr2,sky[1,0:len(yarr2)])\n",
    "plt.xlabel('y')\n",
    "plt.ylabel('counts')\n",
    "plt.show() #you'll notice the missing pixels are connected by a straight line.\n",
    "\n",
    "bkg=sky.mean(axis=1) #measures the mean of the sky region at each x\n",
    "bkgsub=star-bkg.reshape((len(bkg),1)) \n",
    "#creates a 2D array where the mean at each x is duplicated at every y\n",
    "#and subtracts it from our star's spectrum.\n",
    "\n"
   ]
  },
  {
   "cell_type": "markdown",
   "metadata": {},
   "source": [
    "> **Q:** Let's see how that worked. Copy and edit the plotting code from one of the preceding cells to create a zoomed in plot of the background-subtracted spectrum (bkgsub). Is the mean in the background now near 0?"
   ]
  },
  {
   "cell_type": "code",
   "execution_count": null,
   "metadata": {},
   "outputs": [],
   "source": [
    "#your plot here"
   ]
  },
  {
   "cell_type": "markdown",
   "metadata": {},
   "source": [
    "Our next step is to \"extract\" our spectrum, to sum the counts that correspond to our star and exclude the background at each x value."
   ]
  },
  {
   "cell_type": "code",
   "execution_count": null,
   "metadata": {},
   "outputs": [],
   "source": [
    "staronly0=np.delete(bkgsub,np.s_[0:14],1) #cuts off the left side background\n",
    "staronly=np.delete(staronly0,np.s_[11:27],1) #cuts off the right side background\n",
    "\n",
    "fx2 = staronly.sum(axis=1) #let's sum up the counts at each x position\n",
    "plt.plot(xarr,fx2) #and plot our new, background-subtracted spectrum\n",
    "plt.xlabel('x')\n",
    "plt.ylabel('Total Counts')\n",
    "plt.show()"
   ]
  },
  {
   "cell_type": "markdown",
   "metadata": {},
   "source": [
    "## Part II: Analyzing Spectra\n",
    "\n",
    "Now, we'll explore some of the measurements we can make with spectra, using a galaxy spectrum from the Sloan Digital Sky Survey. You will find this galaxy's redshift and decide whether an active galactic nucleus (supermassive black hole) or young stars are lighting up the gas in this mystery galaxy."
   ]
  },
  {
   "cell_type": "code",
   "execution_count": null,
   "metadata": {},
   "outputs": [],
   "source": [
    "#importing necessary packages\n",
    "import astropy.units as u\n",
    "\n",
    "import specutils\n",
    "from specutils import Spectrum1D, SpectralRegion\n",
    "from astropy.nddata import StdDevUncertainty\n",
    "from astropy.visualization import quantity_support\n",
    "quantity_support();"
   ]
  },
  {
   "cell_type": "code",
   "execution_count": null,
   "metadata": {},
   "outputs": [],
   "source": [
    "#read in and display the spectrum\n",
    "#edit the directory as needed\n",
    "sdss_spec = Spectrum1D.read('lab/sdss_spectrum.fits', format='SDSS-III/IV spec')\n",
    "plt.step(sdss_spec.wavelength, sdss_spec.flux)\n",
    "#note that wavelengths are stored in spectrum_name.wavelength \n",
    "#and fluxes are stored in spectrum_name.flux\n"
   ]
  },
  {
   "cell_type": "markdown",
   "metadata": {},
   "source": [
    "Our galaxy has faint continuous emission with bright emission lines. The bright emission lines come from particular elements in ionized gas. The brightest lines are from hydrogen and oxygen.\n",
    "\n",
    "> **Q:** Instead of flux, let's consider the signal-to-noise ratio in our spectrum. Modify the cell below to plot S/N as a function of wavelength. Compare your S/N plot with the plot of the spectrum above. Which wavelength regions have the highest S/N?"
   ]
  },
  {
   "cell_type": "code",
   "execution_count": null,
   "metadata": {
    "scrolled": true
   },
   "outputs": [],
   "source": [
    "#The spectra read in by specutils have associated units\n",
    "#Here, we'll isolate just the flux value and remove its units\n",
    "#We're also taking just the uncertainty value, so that specutils \n",
    "#doesn't try to do any sort of error propagation with it.\n",
    "flux=sdss_spec.flux.value\n",
    "error = sdss_spec.uncertainty.array\n",
    "\n",
    "#your plot here\n"
   ]
  },
  {
   "cell_type": "markdown",
   "metadata": {},
   "source": [
    "Now, we're going to find the redshift of our galaxy. Each emission line in our galaxy's spectrum has experienced a Doppler shift due to the expansion of the universe. The more distant a galaxy is, the more its light has been stretched to longer wavelengths. We often use \"redshift\" as a measure of how far away a galaxy is. Redshift z is defined as \n",
    "\\begin{align}\n",
    "z=\\frac{\\Delta \\lambda}{\\lambda_0}\n",
    "\\end{align}\n",
    "or equivalently,\n",
    "\\begin{align}\n",
    "\\lambda' = \\lambda_0*(1+z)\n",
    "\\end{align}\n",
    "where $\\lambda_0$ is the original wavelength of light emitted and $\\lambda'$ is the wavelength of light we observe."
   ]
  },
  {
   "cell_type": "markdown",
   "metadata": {},
   "source": [
    "The strongest emission line in our spectrum is an [O III] line, which is emitted at a \"rest-frame\" (original) wavelength of 5008.239 Angstroms. (\"[O III]\" means the line is from doubly ionized oxygen). \n",
    "> **Q:** Write code in the cell below to find the observed wavelength of the [O III] line and calculate and print the redshift of our galaxy. Some potentially useful commands: \"max(array)\" gives you the maximum value of an array. \"np.argmax(array)\" gives you the array index at which the maximum value appears. For instance, in the array \"test_array = [5,3,2,6,1]\", max(test_array) = 6 and np.argmax(test_array)=3. "
   ]
  },
  {
   "cell_type": "code",
   "execution_count": null,
   "metadata": {},
   "outputs": [],
   "source": [
    "#Note that because specutils spectra have units\n",
    "#you may need to add or remove units in your calculations here.\n",
    "# to remove units from a quantity, use \".value\"\n",
    "# so sdss_spectrum.flux has flux units, but sdss_spectrum.flux.value is unitless\n",
    "# to add units, multiply by u.unitname. \"u.AA\" adds units of Angstroms. So, mywave=4000*u.AA\n",
    "# creates a wavelength of 4000 Angstroms.\n",
    "\n"
   ]
  },
  {
   "cell_type": "markdown",
   "metadata": {},
   "source": [
    "You should find a redshift of z=0.28. If you didn't, double-check your code.\n",
    "Now, if we want, we can correct all our observed wavelengths to the wavelengths emitted in the rest-frame of our galaxy. This correction makes it easier to identify spectral features.\n",
    "> **Q:** In the cell below, create an array of rest-frame wavelengths ($\\lambda_0$), using the observed wavelengths and the galaxy redshift. Make a new plot with rest-frame wavelength on the x-axis and flux on the y-axis."
   ]
  },
  {
   "cell_type": "code",
   "execution_count": null,
   "metadata": {},
   "outputs": [],
   "source": [
    "#your plot here"
   ]
  },
  {
   "cell_type": "markdown",
   "metadata": {},
   "source": [
    "You should see that the strongest emission line is now right at 5008 Angstroms, where it was originally emitted. \n",
    "\n",
    "Let's zoom into the [O III] region of our spectrum to analyze the lines there in more detail. Obviously, one way to zoom in would be to simply change our plotted axis range. However, we might also want to do some computations that involve only that subset of our spectral array. In the specutils package, we can use \"extract_region\" to select subsections of our spectrum."
   ]
  },
  {
   "cell_type": "code",
   "execution_count": null,
   "metadata": {},
   "outputs": [],
   "source": [
    "from specutils.manipulation import extract_region\n",
    "#imports the relevant tools"
   ]
  },
  {
   "cell_type": "code",
   "execution_count": null,
   "metadata": {},
   "outputs": [],
   "source": [
    "#here, we'll zoom into the region surrounding the [O III] line.\n",
    "#the u.AA command means units of Angstroms\n",
    "o3region = SpectralRegion((6000)*u.AA, (6500)*u.AA) #defines our subregion\n",
    "o3subspec = extract_region(sdss_spec, o3region) #extracts our subspectrum"
   ]
  },
  {
   "cell_type": "code",
   "execution_count": null,
   "metadata": {},
   "outputs": [],
   "source": [
    "#let's plot our subregion\n",
    "plt.step(o3subspec.wavelength,o3subspec.flux)\n",
    "plt.show()\n",
    "#and plot it again, but this time zoomed in to see the continuum level\n",
    "plt.step(o3subspec.wavelength,o3subspec.flux)\n",
    "plt.ylim(0,7.5)"
   ]
  },
  {
   "cell_type": "markdown",
   "metadata": {},
   "source": [
    "The figure above shows that the galaxy has continuum emission (mostly produced by stars in the galaxy) at all wavelengths, whereas the emission lines have flux only at particular wavelengths.\n",
    "\n",
    "To measure the flux of a source using aperture photometry, we subtract off the sky background. To measure the flux from a single object's spectrum, we subtract off the background sky spectrum, as we did in Part I of this lab.\n",
    "Likewise, to measure the flux of a single emission line in a spectrum, we have to subtract off the continuum level, so that we isolate only the flux coming from that emission line.\n",
    "\n",
    "The [O III] line is the strong line at ~6400 Ang. There are two other prominent, but weaker, emission lines to the left of the [O III] line. They are another [O III] line at rest-frame 4960 Ang (observed at ~6350 Ang) and the Hydrogen Balmer H$\\beta$ line at rest-frame 4863 Ang (observed at ~6200 Ang). \n",
    "\n",
    "> **Q:** In the cell below, write code to measure the mean flux for a continuum region near the [O III] line. You'll first want to create a subspectrum containing only the continuum wavelengths you want. Then, use np.mean to measure the mean flux in that region. "
   ]
  },
  {
   "cell_type": "code",
   "execution_count": null,
   "metadata": {},
   "outputs": [],
   "source": [
    "#cont_level= ?\n"
   ]
  },
  {
   "cell_type": "markdown",
   "metadata": {},
   "source": [
    "> **Q:** Now, create a new array of fluxes for the [O III] region, called \"o3_contsub\" by subtracting your continuum level from the [O III] subregion fluxes."
   ]
  },
  {
   "cell_type": "code",
   "execution_count": null,
   "metadata": {},
   "outputs": [],
   "source": [
    "#o3_contsub=\n",
    "#if you get a warning, ignore it.\n"
   ]
  },
  {
   "cell_type": "markdown",
   "metadata": {},
   "source": [
    "Great! Now that our continuum has been subtracted, we can move on to measuring the fluxes of our emission lines. We will do this by fitting a Gaussian function to our emission lines and integrating that Gaussian function over wavelength."
   ]
  },
  {
   "cell_type": "code",
   "execution_count": null,
   "metadata": {},
   "outputs": [],
   "source": [
    "#First, let's get some fitting tools.\n",
    "\n",
    "from specutils import fitting\n",
    "from astropy.modeling import models"
   ]
  },
  {
   "cell_type": "code",
   "execution_count": null,
   "metadata": {},
   "outputs": [],
   "source": [
    "#this command finds all emission lines with S/N > 5\n",
    "o3_lines = fitting.find_lines_threshold(o3_contsub, 5)\n",
    "\n",
    "#and plots them\n",
    "plt.step(o3_contsub.spectral_axis, o3_contsub.flux, where='mid')\n",
    "for line in o3_lines:\n",
    "    plt.axvline(line['line_center'], color='k', ls=':')\n",
    "\n",
    "#and lists their center wavelengths\n",
    "o3_lines\n",
    "#ignore the warning here too."
   ]
  },
  {
   "cell_type": "markdown",
   "metadata": {},
   "source": [
    "> **Q:** The code below fits a Gaussian to each of the 3 spectral lines in our [O III] region. Figure out what each step in the cell below does and add a comment to each line describing what it's doing. One line is already commented. It fixes a random specutils bug and you don't need to understand what it does. "
   ]
  },
  {
   "cell_type": "code",
   "execution_count": null,
   "metadata": {},
   "outputs": [],
   "source": [
    "o3_line_models = [] #What does this do?\n",
    "for line in o3_lines: #What does this do?\n",
    "    line_region = SpectralRegion(line['line_center']-5*u.angstrom,\n",
    "                                 line['line_center']+5*u.angstrom) #What does this do?\n",
    "    line_spectrum = extract_region(o3_contsub, line_region) #What does this do?\n",
    "    # the line below fixes a bug. it's necessary according to the specutils folks.\n",
    "    line_spectrum = Spectrum1D(flux=line_spectrum.flux, spectral_axis=line_spectrum.spectral_axis, uncertainty=line_spectrum.uncertainty)\n",
    "    line_estimate = models.Gaussian1D(mean=line['line_center']) #What does this do?\n",
    "    line_model = fitting.fit_lines(line_spectrum, line_estimate) #What does this do?\n",
    "    \n",
    "    o3_line_models.append(line_model) #What does this do?\n",
    "    \n",
    "plt.step(o3_contsub.spectral_axis, o3_contsub.flux, where='mid') #What does this do?\n",
    "for line_model in o3_line_models: #What does this do?\n",
    "    evaluated_model = line_model(o3_contsub.spectral_axis) #What does this do?\n",
    "    plt.plot(o3_contsub.spectral_axis, evaluated_model)   #What does this do?\n",
    "    \n",
    "o3_line_models #What does this do?"
   ]
  },
  {
   "cell_type": "markdown",
   "metadata": {},
   "source": [
    "A generic Gaussian function is: \n",
    "\\begin{align}\n",
    "\\large\n",
    "f(x) = a e^{\\frac{-(x-b)^2}{2c^2}}\n",
    "\\end{align}\n",
    "In our line-fitting example, f(x) = flux and x = wavelength. In the line fit outputs, a = amplitude, b = mean, and c = stddev.\n",
    "\n",
    "The FWHM of a Gaussian is:\n",
    "\\begin{align}\n",
    "FWHM = 2c\\sqrt{2 \\ln 2}\n",
    "\\end{align}\n",
    "\n",
    "and the integral of a Gaussian is:\n",
    "\\begin{align}\n",
    "\\int_{-\\infty }^{\\infty }f(x)dx = a\\left | c \\right |\\sqrt{2\\pi}\n",
    "\\end{align}\n",
    "To find \"a\" for the shortest wavelength line (H$\\beta$), you would type o3_line_models[0].amplitude. For [O III] 5008, it would be: o3_line_models[2].amplitude.\n",
    "\n",
    "> **Q:** In the cell below, write code to calculate the FWHM of the H$\\beta$ line in Angstroms and in km/s. (For velocity units, $\\frac{\\Delta \\lambda}{\\lambda} = \\frac{v}{c}$, where $\\lambda$ is the central wavelength and c is the speed of light.) numpy has commands for ln and square root.\n",
    "\n",
    "(Note that since we fit the Gaussian profile to our observed wavelengths, $\\lambda$ in the velocity equation also needs to be an observed wavelength. If we had fit the Gaussian to the rest-frame wavelengths, $\\lambda$ would be a rest-frame wavelength)."
   ]
  },
  {
   "cell_type": "code",
   "execution_count": null,
   "metadata": {},
   "outputs": [],
   "source": [
    "#your code here"
   ]
  },
  {
   "cell_type": "markdown",
   "metadata": {},
   "source": [
    "> **Q:** In the cell below, write code to find the total line fluxes of the H$\\beta$ and [O III] 5008 lines by integrating their Gaussian fits over wavelength. Hint: you don't actually have to do an integral in python. Just use the formula for the integral of a Gaussian. "
   ]
  },
  {
   "cell_type": "code",
   "execution_count": null,
   "metadata": {},
   "outputs": [],
   "source": [
    "#your code here"
   ]
  },
  {
   "cell_type": "markdown",
   "metadata": {},
   "source": [
    "Almost done! We need to measure the fluxes of two other spectral lines, the Hydrogen Balmer H$\\alpha$ line and its neighboring [N II] (singly-ionized nitrogen) line at rest-frame wavelength 6585 Ang. We'll do the exact same steps as before."
   ]
  },
  {
   "cell_type": "code",
   "execution_count": null,
   "metadata": {},
   "outputs": [],
   "source": [
    "#Define the spectral region around H-alpha. \n",
    "#H-alpha is the strong line at the red end of our spectrum\n",
    "\n",
    "ha_region = SpectralRegion((8200)*u.AA, (8550)*u.AA)\n",
    "hasubspec = extract_region(sdss_spec, ha_region)\n",
    "plt.step(hasubspec.wavelength,hasubspec.flux)\n",
    "plt.ylim(0,7.5) #a zoomed in plot to see the continuum level\n"
   ]
  },
  {
   "cell_type": "markdown",
   "metadata": {},
   "source": [
    "> **Q:** Copy your code from above to estimate the continuum level near H$\\alpha$. Extract a continuum region between 8450 and 8525 Ang, and measure and store the mean flux as a variable called hacont_level."
   ]
  },
  {
   "cell_type": "code",
   "execution_count": null,
   "metadata": {},
   "outputs": [],
   "source": [
    "#your code here"
   ]
  },
  {
   "cell_type": "code",
   "execution_count": null,
   "metadata": {},
   "outputs": [],
   "source": [
    "#Now we create a continuum-subtracted H-alpha region\n",
    "#ignore any warnings\n",
    "ha_contsub = extract_region(sdss_spec, ha_region) - hacont_level"
   ]
  },
  {
   "cell_type": "code",
   "execution_count": null,
   "metadata": {},
   "outputs": [],
   "source": [
    "#and we fit to find line centers\n",
    "ha_lines = fitting.find_lines_threshold(ha_contsub, 5)\n",
    "\n",
    "plt.step(ha_contsub.spectral_axis, ha_contsub.flux, where='mid')\n",
    "for line in ha_lines:\n",
    "    plt.axvline(line['line_center'], color='k', ls=':')\n",
    "\n",
    "ha_lines"
   ]
  },
  {
   "cell_type": "code",
   "execution_count": null,
   "metadata": {},
   "outputs": [],
   "source": [
    "#and run the same Gaussian model fits. This is the exact same code as before. \n",
    "#I've just replaced \"o3\" with \"ha\"\n",
    "ha_line_models = []\n",
    "for line in ha_lines:\n",
    "    line_region = SpectralRegion(line['line_center']-5*u.angstrom,\n",
    "                                 line['line_center']+5*u.angstrom)\n",
    "    line_spectrum = extract_region(ha_contsub, line_region)\n",
    "    # here's the workaround from above again\n",
    "    line_spectrum = Spectrum1D(flux=line_spectrum.flux, spectral_axis=line_spectrum.spectral_axis, uncertainty=line_spectrum.uncertainty)\n",
    "    line_estimate = models.Gaussian1D(mean=line['line_center'])\n",
    "    line_model = fitting.fit_lines(line_spectrum, line_estimate)\n",
    "    \n",
    "    ha_line_models.append(line_model)\n",
    "    \n",
    "plt.step(ha_contsub.spectral_axis, ha_contsub.flux, where='mid')\n",
    "for line_model in ha_line_models:\n",
    "    evaluated_model = line_model(ha_contsub.spectral_axis)\n",
    "    plt.plot(ha_contsub.spectral_axis, evaluated_model)  \n",
    "    \n",
    "ha_line_models"
   ]
  },
  {
   "cell_type": "markdown",
   "metadata": {},
   "source": [
    "> **Q:** Copy your code from above to calculate the total integrated flux in the H-alpha line (the strong line) and in the [N II] line (the weaker line). "
   ]
  },
  {
   "cell_type": "code",
   "execution_count": null,
   "metadata": {},
   "outputs": [],
   "source": [
    "#your code here"
   ]
  },
  {
   "cell_type": "markdown",
   "metadata": {},
   "source": [
    "The Grand Finale!\n",
    "\n",
    "Active galactic nuclei (AGN) emit photons at higher energies than stars do. As a result, they heat gas to higher temperatures, and particles within that gas move faster. The [O III] and [N II] lines are emitted when electrons collide with O++ and N+ atoms and give energy to those atoms, thereby exciting one of the atom's electrons into an upper energy state. When the electron falls back down to a lower energy level, it emits the light at the emission-line wavelength we observe. More energetic collisions = more excitation = stronger emission lines.\n",
    "\n",
    "What this means is that gas around AGN has stronger [N II] 6585 and [O III] 5008 emission than the gas around stars. \n",
    "\n",
    "According to predictions for AGN, gas around an AGN should have:\n",
    "\\begin{align}\n",
    "\\log([O III]/H\\beta) > \\frac{0.61}{\\log([N II]/H\\alpha)-0.05}+1.3\n",
    "\\end{align}\n",
    "\n",
    "I've plotted this line in the figure below.\n",
    "\n",
    "> **Q:** Use your measured [O III] 5008, H$\\beta$, [N II] 6585, and H$\\alpha$ fluxes to calculate log([O III]/H$\\beta$) and log([N II]/H$\\alpha$). Be sure to use the base 10 log in numpy. Plot your data point on the figure below. If your data point is above the line, the mystery galaxy is an AGN. If it's below the line, it's a star-forming galaxy. Which is it?"
   ]
  },
  {
   "cell_type": "code",
   "execution_count": null,
   "metadata": {},
   "outputs": [],
   "source": [
    "from matplotlib import rc #let's us use Greek letters in our plotting\n",
    "#o3hb=\n",
    "#n2ha=\n",
    "n2ha_arr=np.arange(-1.5,0,0.1) #creating an array for plotting\n",
    "o3hb_arr=0.61/(n2ha_arr-0.05)+1.3 #the equation separating AGN and star-forming galaxies\n",
    "plt.plot(n2ha_arr, o3hb_arr) #plotting the AGN line\n",
    "plt.plot(n2ha,o3hb,'ro') #plotting your data point\n",
    "plt.xlabel(r'Log([NII]/H$\\alpha$)')\n",
    "plt.ylabel(r'Log([OIII]/H$\\beta$)')\n",
    "plt.show()"
   ]
  },
  {
   "cell_type": "markdown",
   "metadata": {},
   "source": [
    "You did it! Email this jupyter notebook to Prof. Jaskot (08aej@williams.edu).\n",
    "(Prof. Jaskot is leading the spectroscopy unit, so this lab actually goes to her and not Dr. Flaherty).\n"
   ]
  },
  {
   "cell_type": "code",
   "execution_count": null,
   "metadata": {},
   "outputs": [],
   "source": []
  }
 ],
 "metadata": {
  "kernelspec": {
   "display_name": "Python 3",
   "language": "python",
   "name": "python3"
  },
  "language_info": {
   "codemirror_mode": {
    "name": "ipython",
    "version": 3
   },
   "file_extension": ".py",
   "mimetype": "text/x-python",
   "name": "python",
   "nbconvert_exporter": "python",
   "pygments_lexer": "ipython3",
   "version": "3.7.3"
  }
 },
 "nbformat": 4,
 "nbformat_minor": 4
}
