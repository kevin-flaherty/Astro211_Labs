{
 "cells": [
  {
   "cell_type": "markdown",
   "metadata": {},
   "source": [
    "# SDSS SQL Tutorial\n",
    "---\n",
    "\n",
    "In the first part of this lab, you were (briefly) introduced to the world of online astronomical databases, and shown how to perform simple searches. The functionality of these databases extends well beyond what you saw in the previous lab. One of the powerful features of these databases is the ability to select out data that fit a certain set of criteria (beyond simply a location on the sky). This can include e.g. selecting all of the bright, well-resolved, nearby galaxies, in order to make your own Hubble classification diagram. Or selecting out all of the stars within a cluster (based on RA, Dec, and distance) in order to create an HR diagram of the cluster, and hence measure its age.\n",
    "\n",
    "These complex queries are possible, although not with the simple query tools introduced earlier. To perform these tasks you need to learn about the Structured Query Language (SQL) a programming language for performing these queries. To learn SQL, you will work through SDSS SQL tutorial ([http://skyserver.sdss.org/dr14/en/help/howto/search/searchhowtohome.aspx](http://skyserver.sdss.org/dr14/en/help/howto/search/searchhowtohome.aspx)). \n",
    "\n",
    "The tutorial can be completed entirely online, but SQL queries can also be completed within python. This notebook demonstrates how to call SQL queries within python. As you work through the online, record and execute your answers in the notebook below. "
   ]
  },
  {
   "cell_type": "markdown",
   "metadata": {},
   "source": [
    "### SQL Queries in Python\n",
    "\n",
    "The next two cells show how to execute the initial SQL query in the tutorial. "
   ]
  },
  {
   "cell_type": "code",
   "execution_count": null,
   "metadata": {},
   "outputs": [],
   "source": [
    "# First, suppress some warnings and import useful packages\n",
    "import warnings\n",
    "warnings.filterwarnings('ignore',module='astropy.io.votables.tree')\n",
    "warnings.filterwarnings('ignore',message='.*unclosed..socket')\n",
    "\n",
    "import astropy.units as u\n",
    "from astropy.coordinates import SkyCoord, ICRS\n",
    "from astroquery.sdss import SDSS #package that allows queries of the SDSS database. "
   ]
  },
  {
   "cell_type": "markdown",
   "metadata": {},
   "source": [
    "Basically, the SQL query is recorded in a string variable, and then this string is sent to SDSS using the `query_sql` function."
   ]
  },
  {
   "cell_type": "code",
   "execution_count": null,
   "metadata": {},
   "outputs": [],
   "source": [
    "# First Query\n",
    "\n",
    "# input the query as a string, and then submit the string to SDSS\n",
    "query_string='''select ra,dec\n",
    "from specObj\n",
    "where ra BETWEEN 140 and 141 AND\n",
    "dec BETWEEN 20 and 21'''\n",
    "\n",
    "data = SDSS.query_sql(query_string,verbose=False)\n",
    "\n",
    "# We can now print the results\n",
    "print(data)"
   ]
  },
  {
   "cell_type": "markdown",
   "metadata": {},
   "source": [
    "The result is an astropy Tables object [(http://docs.astropy.org/en/stable/api/astropy.table.Table.html#astropy.table.Table)](http://docs.astropy.org/en/stable/api/astropy.table.Table.html#astropy.table.Table), which is similar to a dictionary. "
   ]
  },
  {
   "cell_type": "code",
   "execution_count": null,
   "metadata": {},
   "outputs": [],
   "source": [
    "# The column names\n",
    "print(data.keys())\n",
    "\n",
    "# Access individual columns\n",
    "print(data['ra'][:5])"
   ]
  },
  {
   "cell_type": "markdown",
   "metadata": {},
   "source": [
    "From here you can complete the rest of the tutorial, recording your answers in the cells below. The examples have also been copied here for your records. While this tutorial does cover a lot of material related to SQL, you only need to go as far as you can before the lab ends (you can save the rest for another time). "
   ]
  },
  {
   "cell_type": "markdown",
   "metadata": {},
   "source": [
    "> **Practice 1**: What objects has the SDSS seen in a smaller area of the sky near ra = 140.5, dec = 20.5 (the same area you searched in the previous query)?\n",
    ">\n",
    "> Modify the previous query so it will return ra and dec of objects where the ra is between 140.25 and 140.75 and dec is between 20.25 and 20.75. How many objects did the query return?"
   ]
  },
  {
   "cell_type": "code",
   "execution_count": null,
   "metadata": {},
   "outputs": [],
   "source": [
    "# Practice 1\n",
    "query_string='''\n",
    "\n",
    "'''\n",
    "\n",
    "data = SDSS.query_sql(query_string,verbose=False)\n",
    "print(data)"
   ]
  },
  {
   "cell_type": "markdown",
   "metadata": {},
   "source": [
    "> **Practice 2**: Which of the objects you found in Practice 1 are galaxies? Modify your query so that it returns the ra, dec, and the best object ID for galaxies (and only galaxies) whose ra is between 194.25 and 194.75 and whose dec is between 2.25 and 2.75."
   ]
  },
  {
   "cell_type": "code",
   "execution_count": null,
   "metadata": {},
   "outputs": [],
   "source": [
    "# Practice 2\n",
    "query_string='''\n",
    "\n",
    "'''\n",
    "\n",
    "data = SDSS.query_sql(query_string,verbose=False)\n",
    "print(data)"
   ]
  },
  {
   "cell_type": "code",
   "execution_count": null,
   "metadata": {},
   "outputs": [],
   "source": [
    "# Sample Query: Logical Operators\n",
    "query_string='''select top 10\n",
    "    z, ra, dec, bestObjID\n",
    "from\n",
    "    specObj\n",
    "where\n",
    "    class = 'galaxy' \n",
    "    and z > 0.3 \n",
    "    and zWarning = 0\n",
    "'''\n",
    "\n",
    "data = SDSS.query_sql(query_string,verbose=False)\n",
    "print(data)"
   ]
  },
  {
   "cell_type": "code",
   "execution_count": null,
   "metadata": {},
   "outputs": [],
   "source": [
    "#Sample Query: Logical Operators\n",
    "query_string='''select top 10\n",
    "    z, ra, dec, bestObjID\n",
    "from\n",
    "    specObj\n",
    "where\n",
    "    (class = 'galaxy' or class = 'qso')\n",
    "    and z > 0.3\n",
    "    and zWarning = 0\n",
    "'''\n",
    "\n",
    "data = SDSS.query_sql(query_string,verbose=False)\n",
    "print(data)"
   ]
  },
  {
   "cell_type": "code",
   "execution_count": null,
   "metadata": {},
   "outputs": [],
   "source": [
    "# Sample Query: Logical Operators\n",
    "query_string='''select top 10\n",
    "    ra, dec, modelMag_u, modelMag_g, modelMag_r, modelMag_i, modelMag_z, objID\n",
    "from\n",
    "    photoObj\n",
    "where\n",
    "    type = 6\n",
    "    and modelMag_u - modelMag_g < 0.5\n",
    "'''\n",
    "\n",
    "data = SDSS.query_sql(query_string,verbose=False)\n",
    "print(data)"
   ]
  },
  {
   "cell_type": "markdown",
   "metadata": {},
   "source": [
    "> **Practice 3**: What are the reddest galaxies in the area of the sky near ra=141?\n",
    "> \n",
    "> Write a query to search for galaxies between ra = 140.9 and ra=141.1 brighter than g=18.0 for which u-g>2.2. Retrieve the Object ID, ra, dec, and the five final magnitudes."
   ]
  },
  {
   "cell_type": "code",
   "execution_count": null,
   "metadata": {},
   "outputs": [],
   "source": [
    "# Practice 3\n",
    "query_string='''\n",
    "\n",
    "'''\n",
    "\n",
    "data = SDSS.query_sql(query_string,verbose=False)\n",
    "print(data)"
   ]
  },
  {
   "cell_type": "markdown",
   "metadata": {},
   "source": [
    "> **Practice 4**: What are the highest-redshift quasars in the SDSS database?\n",
    "> \n",
    "> Write a query to search for quasars for which we have obtained spectra (search the specObj table) with redshifts greater than 4.5 and good measurements (zWarning = 0). Retrieve each quasar's Photo ID, ra dec, and redshift"
   ]
  },
  {
   "cell_type": "code",
   "execution_count": null,
   "metadata": {},
   "outputs": [],
   "source": [
    "# Practice 4\n",
    "query_string='''\n",
    "\n",
    "'''\n",
    "\n",
    "data = SDSS.query_sql(query_string,verbose=False)\n",
    "print(data)"
   ]
  },
  {
   "cell_type": "code",
   "execution_count": null,
   "metadata": {},
   "outputs": [],
   "source": [
    "# Sample Query: Joining\n",
    "query_string='''select top 100\n",
    "    x.plate, x.mjd,\n",
    "    s.fiberID,\n",
    "    p.modelMag_u, p.modelMag_g, p.ModelMag_r, p.ModelMag_i, p.ModelMag_z,\n",
    "    p.ra, p.dec,\n",
    "    s.z, p.ObjID\n",
    "from photoObj p\n",
    "join specObj s on s.bestobjid = p.objid\n",
    "join plateX x on x.plateID = s.plateID\n",
    "where\n",
    "    s.class = 'qso'\n",
    "    and s.zwarning = 0\n",
    "    and s.z between 0.3 and 0.4\n",
    "'''\n",
    "\n",
    "data = SDSS.query_sql(query_string,verbose=False)\n",
    "print(data)"
   ]
  },
  {
   "cell_type": "markdown",
   "metadata": {},
   "source": [
    "> **Practice 5**: How can you look up image data, plates, and spectra of moderately bright galaxies?\n",
    "> \n",
    "> Write a query to find 100 galaxies for which we have spectra that have g magnitude between 17 and 17.4 and redshift less than 0.05. For each galaxy retrieve the object ID, the five magnitudes, the redshift, the plate/MJD number, and the fiber number."
   ]
  },
  {
   "cell_type": "code",
   "execution_count": null,
   "metadata": {},
   "outputs": [],
   "source": [
    "# Practice 5\n",
    "query_string='''\n",
    "\n",
    "'''\n",
    "\n",
    "data = SDSS.query_sql(query_string,verbose=False)\n",
    "print(data)"
   ]
  },
  {
   "cell_type": "markdown",
   "metadata": {},
   "source": [
    "---\n",
    "You can **stop here**, or continue on if you have time.\n",
    "\n",
    "---"
   ]
  },
  {
   "cell_type": "code",
   "execution_count": null,
   "metadata": {},
   "outputs": [],
   "source": [
    "# Sample Query: Aggregate functions\n",
    "query_string='''select \n",
    "    min(dec) as min_dec, max(dec) as max_dec, avg(dec) as avg_dec\n",
    "from\n",
    "    photoObj\n",
    "where\n",
    "    run = 5112\n",
    "'''\n",
    "\n",
    "data = SDSS.query_sql(query_string,verbose=False)\n",
    "print(data)"
   ]
  },
  {
   "cell_type": "code",
   "execution_count": null,
   "metadata": {},
   "outputs": [],
   "source": [
    "# Sample Query: The Group By command\n",
    "query_string='''select \n",
    "    class, count(z) as num_redshift\n",
    "from \n",
    "    specObj\n",
    "where\n",
    "    z between 0.5 and 1\n",
    "group by\n",
    "    class\n",
    "'''\n",
    "\n",
    "data = SDSS.query_sql(query_string,verbose=False)\n",
    "print(data)"
   ]
  },
  {
   "cell_type": "code",
   "execution_count": null,
   "metadata": {},
   "outputs": [],
   "source": [
    "# Sample Query: The Order By command\n",
    "query_string='''select mjd,plate\n",
    "from\n",
    "    plateX\n",
    "where\n",
    "    plate <= 275\n",
    "order by mjd\n",
    "'''\n",
    "\n",
    "data = SDSS.query_sql(query_string,verbose=False)\n",
    "print(data)"
   ]
  },
  {
   "cell_type": "markdown",
   "metadata": {},
   "source": [
    "> **Practice 7**: What are the northernmost and southernmost objects with spectra measured by the SDSS?"
   ]
  },
  {
   "cell_type": "code",
   "execution_count": null,
   "metadata": {},
   "outputs": [],
   "source": [
    "# Practice 7\n",
    "query_string='''\n",
    "\n",
    "'''\n",
    "\n",
    "data = SDSS.query_sql(query_string,verbose=False)\n",
    "\n",
    "# We can now print the results\n",
    "print(data)"
   ]
  },
  {
   "cell_type": "markdown",
   "metadata": {},
   "source": [
    "> **Practice 8**: What is the redshift of the nearest galaxy whose spectrum was measured by the SDSS with high confidence (zWarning=0)? \n",
    ">\n",
    "> Compare the distance you found to the distance to the Andromeda Galaxy (2 million light-years) and the Whirlpool Galaxy (37 millions light-years). Does the distance you found seem reasonable?"
   ]
  },
  {
   "cell_type": "code",
   "execution_count": null,
   "metadata": {},
   "outputs": [],
   "source": [
    "# Practice 8\n",
    "query_string='''\n",
    "\n",
    "'''\n",
    "\n",
    "data = SDSS.query_sql(query_string,verbose=False)\n",
    "print(data['redshift'][0],data['redshift'][0]/(7.11e-11))"
   ]
  },
  {
   "cell_type": "markdown",
   "metadata": {},
   "source": [
    "> **Practice 9**: What field has galaxies with the highest average redshifts in run=5112, camcol=1?\n",
    ">\n",
    "> Be sure you are searching fields (as run-camcol-field) for galaxies. Also look at how many spectrally measured galaxies are in the field - make sure you don't pick a field with only one or two galaxies! Also note that this query will probably take a long time to execute."
   ]
  },
  {
   "cell_type": "code",
   "execution_count": null,
   "metadata": {},
   "outputs": [],
   "source": [
    "# Practice 9\n",
    "query_string='''\n",
    "\n",
    "'''\n",
    "\n",
    "data = SDSS.query_sql(query_string,verbose=False)\n",
    "print(data)"
   ]
  },
  {
   "cell_type": "markdown",
   "metadata": {},
   "source": [
    "---\n",
    "You can **stop here**, or continue on if you have time.\n",
    "\n",
    "---"
   ]
  },
  {
   "cell_type": "code",
   "execution_count": null,
   "metadata": {},
   "outputs": [],
   "source": [
    "# Sample Query: Functions\n",
    "# Search for all objects within 5 arcminutes of ra=140, dec = 20\n",
    "query_string='''SELECT\n",
    "    p.ObjID, p.ra, p.dec, p.u, p.g, p.r, p.i, p.z\n",
    "FROM photoObj p\n",
    "JOIN dbo.fGetNearbyObjEq(140,20,5) n ON n.objID = p.objID\n",
    "WHERE\n",
    "    p.type = 3\n",
    "'''\n",
    "\n",
    "data = SDSS.query_sql(query_string,verbose=False)\n",
    "print(data)"
   ]
  },
  {
   "cell_type": "code",
   "execution_count": null,
   "metadata": {},
   "outputs": [],
   "source": [
    "# Sample Query: Flags\n",
    "# Find English names for flags of all stars around the point 175,1\n",
    "query_string='''SELECT\n",
    "    p.ObjID, p.flags, dbo.fPhotoFlagsN(p.flags)\n",
    "FROM photoObj p\n",
    "JOIN dbo.fGetNearbyObjEq(140,20,5) n ON n.objID = p.objID\n",
    "WHERE\n",
    "    p.type = 6\n",
    "'''\n",
    "\n",
    "data = SDSS.query_sql(query_string,verbose=False)\n",
    "print(data)"
   ]
  },
  {
   "cell_type": "code",
   "execution_count": null,
   "metadata": {},
   "outputs": [],
   "source": [
    "# Sample Query: Flags\n",
    "query_string='''SELECT\n",
    "    p.ObjID, p.ra, p.dec, dbo.fPhotoFlagsN(p.flags)\n",
    "FROM photoObj p\n",
    "JOIN dbo.fGetNearbyObjEq(140,20,5) n ON n.objID = p.objID\n",
    "WHERE\n",
    "    (p.flags & dbo.fPhotoFlags('SATURATED')) = 0\n",
    "'''\n",
    "\n",
    "data = SDSS.query_sql(query_string,verbose=False)\n",
    "print(data)"
   ]
  },
  {
   "cell_type": "markdown",
   "metadata": {},
   "source": [
    "> **Practice 10**: In the field 5112-6-119, what percentage of all objects detected by SDSS are too close to the edge of their fields to be trusted?\n",
    ">\n",
    "> Hint: Use two searches, one with a flag and one without. Search run=5112, camcol=6, field=119"
   ]
  },
  {
   "cell_type": "code",
   "execution_count": null,
   "metadata": {},
   "outputs": [],
   "source": [
    "#Practice 10\n",
    "query_string='''\n",
    "\n",
    "'''\n",
    "\n",
    "data = SDSS.query_sql(query_string,verbose=False)\n",
    "print(data)"
   ]
  },
  {
   "cell_type": "code",
   "execution_count": null,
   "metadata": {},
   "outputs": [],
   "source": [
    "#Practice 10\n",
    "query_string='''\n",
    "\n",
    "'''\n",
    "\n",
    "data = SDSS.query_sql(query_string,verbose=False)\n",
    "print(data)"
   ]
  },
  {
   "cell_type": "markdown",
   "metadata": {},
   "source": [
    "> **Practice 11**: Choose a galaxy cluster from SkyServer's Famous Places tool. Write a query to select galaxies in the cluster, and only galaxies in the cluster\n",
    ">\n",
    "> Hint: After you pick a cluster, use the Navigation Tool to examine the cluster. Guess which galaxies belong to the cluster - you should be able to tell just by looking. Click on 5-10 galaxies and save them in your online notebook. Open the notebook to look for features that the cluster galaxies have in common. Guess the center position and radius of the galaxies. Then, write a query that uses what you have learned to search for the cluster galaxies."
   ]
  },
  {
   "cell_type": "code",
   "execution_count": null,
   "metadata": {},
   "outputs": [],
   "source": [
    "# Practice 11\n",
    "query_string='''\n",
    "\n",
    "'''\n",
    "\n",
    "data = SDSS.query_sql(query_string,verbose=False)\n",
    "\n",
    "# We can now print the results\n",
    "print(data)"
   ]
  },
  {
   "cell_type": "markdown",
   "metadata": {},
   "source": [
    "- Challenge 1: What percentage of galaxies have spectral redshifts measured? What percentage have photometric redshifts taken? What are the advantages of using photometric redshifts? Try to compare photometric and spectral redshifts; how accurate are photometric redshifts?\n",
    "- Challenge 2: What are the limits in ra and dec of stripes 42 and 43, two of the SDSS's diagonal stripes?\n",
    "- Challenge 3: Look at colors and spectra of stars, and find stars consistent with white dwarfs. Create a list of white dwarfs in the SDSS database.\n",
    "- Challenge 4: What are the largest galaxies in the SDSS, in terms of size? Hint: Look at surface brightness and ellipticity.\n",
    "- Challenge 5: Find all objects with spectra classified as unknown.\n",
    "- Challenge 6: Find the broad absorption line (BAL) quasars in the SDSS database. At what redshift are most BAL quasars found?\n",
    "- Challenge 7: Find variable stars in the SDSS (stars imaged more than once whose magnitude changed by more than 0.1 between observations). How variable are the stars?"
   ]
  },
  {
   "cell_type": "markdown",
   "metadata": {},
   "source": [
    "SQL is a common language for querying databases. The International Virtual Observatory Association supports use of the Astronomy Database Query Language (ADQL), and is used by e.g. GAIA [https://www.gaia.ac.uk/data/gaia-data-release-1/adql-cookbook](https://www.gaia.ac.uk/data/gaia-data-release-1/adql-cookbook). Sincd ADQL is built on from SQL, much of the syntax is the same. "
   ]
  },
  {
   "cell_type": "code",
   "execution_count": null,
   "metadata": {},
   "outputs": [],
   "source": []
  }
 ],
 "metadata": {
  "kernelspec": {
   "display_name": "Python 3",
   "language": "python",
   "name": "python3"
  },
  "language_info": {
   "codemirror_mode": {
    "name": "ipython",
    "version": 3
   },
   "file_extension": ".py",
   "mimetype": "text/x-python",
   "name": "python",
   "nbconvert_exporter": "python",
   "pygments_lexer": "ipython3",
   "version": "3.7.3"
  }
 },
 "nbformat": 4,
 "nbformat_minor": 2
}
