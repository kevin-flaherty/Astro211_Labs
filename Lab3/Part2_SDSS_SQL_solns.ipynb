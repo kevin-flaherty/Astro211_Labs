{
 "cells": [
  {
   "cell_type": "markdown",
   "metadata": {},
   "source": [
    "# SDSS SQL Tutorial\n",
    "---\n",
    "\n",
    "In the first part of this lab, you were (briefly) introduced to the world of online astronomical databases, and shown how to perform simple searches. The functionality of these databases extends well beyond what you saw in the previous lab. One of the powerful features of these databases is the ability to select out data that fit a certain set of criteria (beyond simply a location on the sky). This can include e.g. selecting all of the bright, well-resolved, nearby galaxies, in order to make your own Hubble classification diagram. Or selecting out all of the stars within a cluster (based on RA, Dec, and distance) in order to create an HR diagram of the cluster, and hence measure its age.\n",
    "\n",
    "These complex queries are possible, although not with the simple query tools introduced earlier. To perform these tasks you need to learn about the Structured Query Language (SQL) a programming language for performing these queries. To learn SQL, you will work through SDSS SQL tutorial ([http://skyserver.sdss.org/dr14/en/help/howto/search/searchhowtohome.aspx](http://skyserver.sdss.org/dr14/en/help/howto/search/searchhowtohome.aspx)). \n",
    "\n",
    "The tutorial can be completed entirely online, but SQL queries can also be completed within python. This notebook demonstrates how to call SQL queries within python. As you work through the online, record and execute your answers in the notebook below. "
   ]
  },
  {
   "cell_type": "markdown",
   "metadata": {},
   "source": [
    "### SQL Queries in Python\n",
    "\n",
    "The next two cells show how to execute the initial SQL query in the tutorial. "
   ]
  },
  {
   "cell_type": "code",
   "execution_count": 1,
   "metadata": {},
   "outputs": [],
   "source": [
    "# First, suppress some warnings and import useful packages\n",
    "import warnings\n",
    "warnings.filterwarnings('ignore',module='astropy.io.votables.tree')\n",
    "warnings.filterwarnings('ignore',message='.*unclosed..socket')\n",
    "\n",
    "import astropy.units as u\n",
    "from astropy.coordinates import SkyCoord, ICRS\n",
    "from astroquery.sdss import SDSS #package that allows queries of the SDSS database. "
   ]
  },
  {
   "cell_type": "markdown",
   "metadata": {},
   "source": [
    "Basically, the SQL query is recorded in a string variable, and then this string is sent to SDSS using the `query_sql` function."
   ]
  },
  {
   "cell_type": "code",
   "execution_count": 2,
   "metadata": {},
   "outputs": [
    {
     "name": "stdout",
     "output_type": "stream",
     "text": [
      "    ra       dec   \n",
      "--------- ---------\n",
      "140.00334 20.774178\n",
      "140.00636 20.924277\n",
      "140.01069 20.078161\n",
      "140.01226 20.538016\n",
      "140.01318 20.605621\n",
      "140.01467 20.499697\n",
      "140.01628 20.849852\n",
      "140.01957 20.762055\n",
      "140.02726 20.674341\n",
      " 140.0331  20.25241\n",
      "      ...       ...\n",
      "140.95848 20.611813\n",
      " 140.9595 20.832956\n",
      "140.96916 20.290457\n",
      "140.97144 20.045201\n",
      "140.97225 20.121144\n",
      " 140.9787 20.759427\n",
      "140.97915 20.029572\n",
      "140.98147 20.817946\n",
      "140.99308 20.027302\n",
      "140.99353 20.578518\n",
      "140.99392 20.423977\n",
      "Length = 328 rows\n"
     ]
    }
   ],
   "source": [
    "# First Query\n",
    "\n",
    "# input the query as a string, and then submit the string to SDSS\n",
    "query_string='''select ra,dec\n",
    "from specObj\n",
    "where ra BETWEEN 140 and 141 AND\n",
    "dec BETWEEN 20 and 21'''\n",
    "\n",
    "data = SDSS.query_sql(query_string,verbose=False)\n",
    "\n",
    "# We can now print the results\n",
    "print(data)"
   ]
  },
  {
   "cell_type": "markdown",
   "metadata": {},
   "source": [
    "The result is an astropy Tables object [(http://docs.astropy.org/en/stable/api/astropy.table.Table.html#astropy.table.Table)](http://docs.astropy.org/en/stable/api/astropy.table.Table.html#astropy.table.Table), which is similar to a dictionary. "
   ]
  },
  {
   "cell_type": "code",
   "execution_count": 3,
   "metadata": {},
   "outputs": [
    {
     "name": "stdout",
     "output_type": "stream",
     "text": [
      "['ra', 'dec']\n",
      "    ra   \n",
      "---------\n",
      "140.00334\n",
      "140.00636\n",
      "140.01069\n",
      "140.01226\n",
      "140.01318\n"
     ]
    }
   ],
   "source": [
    "# The column names\n",
    "print(data.keys())\n",
    "\n",
    "# Access individual columns\n",
    "print(data['ra'][:5])"
   ]
  },
  {
   "cell_type": "markdown",
   "metadata": {},
   "source": [
    "From here you can complete the rest of the tutorial, recording your answers in the cells below. The examples have also been copied here for your records. While this tutorial does cover a lot of material related to SQL, you only need to go as far as you can before the lab ends (you can save the rest for another time). "
   ]
  },
  {
   "cell_type": "markdown",
   "metadata": {},
   "source": [
    "> **Practice 1**: What objects has the SDSS seen in a smaller area of the sky near ra = 140.5, dec = 20.5 (the same area you searched in the previous query)?\n",
    ">\n",
    "> Modify the previous query so it will return ra and dec of objects where the ra is between 140.25 and 140.75 and dec is between 20.25 and 20.75. How many objects did the query return?"
   ]
  },
  {
   "cell_type": "code",
   "execution_count": 6,
   "metadata": {},
   "outputs": [
    {
     "name": "stdout",
     "output_type": "stream",
     "text": [
      "89\n"
     ]
    }
   ],
   "source": [
    "# Practice 1\n",
    "query_string=''' select ra, dec\n",
    "from specObj\n",
    "where ra between 140.25 and 140.75\n",
    "and dec between 20.25 and 20.75\n",
    "'''\n",
    "\n",
    "data = SDSS.query_sql(query_string,verbose=False)\n",
    "print(len(data))"
   ]
  },
  {
   "cell_type": "markdown",
   "metadata": {},
   "source": [
    "> **Practice 2**: Which of the objects you found in Practice 1 are galaxies? Modify your query so that it returns the ra, dec, and the best object ID for galaxies (and only galaxies) whose ra is between 194.25 and 194.75 and whose dec is between 2.25 and 2.75."
   ]
  },
  {
   "cell_type": "code",
   "execution_count": 7,
   "metadata": {},
   "outputs": [
    {
     "name": "stdout",
     "output_type": "stream",
     "text": [
      "    ra       dec         bestObjID     \n",
      "--------- --------- -------------------\n",
      "140.26652  20.27486 1237667430093619286\n",
      "140.26679 20.410276 1237667293189963907\n",
      "140.26998 20.665789 1237667430630555834\n",
      "140.30213 20.516802 1237667293189964312\n",
      "140.31007 20.374799 1237667293189963927\n",
      "140.32603 20.627772 1237667430630555857\n",
      "140.35157 20.735508 1237667430630621359\n",
      "140.38724 20.602435 1237667430630621652\n",
      "140.42225 20.443024 1237667293190029773\n",
      "140.43593 20.450317 1237667293190029434\n",
      "      ...       ...                 ...\n",
      "140.70442 20.355897 1237667430093815960\n",
      "140.71457 20.401091 1237667430093816046\n",
      "140.72306 20.266393 1237667430093816343\n",
      "140.72367 20.351012 1237667430093816417\n",
      "140.72577 20.342547 1237667430093816412\n",
      "140.72754 20.583188 1237667293190160556\n",
      " 140.7291 20.400367 1237667430093816489\n",
      "140.73026 20.441962 1237667430093816530\n",
      "140.74094 20.320367 1237667430093816437\n",
      "140.74187  20.34313 1237667430093816467\n",
      "140.74828 20.343699 1237667430093816484\n",
      "Length = 40 rows\n"
     ]
    }
   ],
   "source": [
    "# Practice 2\n",
    "query_string=''' select ra, dec, bestObjID\n",
    "from specObJ\n",
    "where ra between 194.25 and 194.75\n",
    "and dec between 2.25 and 2.75\n",
    "and class='GALAXY'\n",
    "\n",
    "'''\n",
    "\n",
    "data = SDSS.query_sql(query_string,verbose=False)\n",
    "print(data)"
   ]
  },
  {
   "cell_type": "code",
   "execution_count": 8,
   "metadata": {},
   "outputs": [
    {
     "name": "stdout",
     "output_type": "stream",
     "text": [
      "    z         ra       dec          bestObjID     \n",
      "--------- --------- ---------- -------------------\n",
      "0.3000001 184.86409  52.571314 1237657629529211079\n",
      "0.3000009 222.98982  42.629408 1237658203986460871\n",
      "0.3000009 146.39863  5.8334459 1237658423547920434\n",
      "0.3000012 49.459411   0.847754 1237660241924063461\n",
      "0.3000018 172.28104  10.234226 1237658493349789816\n",
      "0.3000027 156.25024  7.6586271 1237658425162858683\n",
      "0.3000027 231.07321  32.718373 1237662341082382595\n",
      "0.3000033 197.37712  10.524518 1237662238545478566\n",
      "0.3000035 184.90501 -3.3095095 1237650760782053596\n",
      "0.3000037 242.52563  6.0693494 1237662198290186255\n"
     ]
    }
   ],
   "source": [
    "# Sample Query: Logical Operators\n",
    "query_string='''select top 10\n",
    "    z, ra, dec, bestObjID\n",
    "from\n",
    "    specObj\n",
    "where\n",
    "    class = 'galaxy' \n",
    "    and z > 0.3 \n",
    "    and zWarning = 0\n",
    "'''\n",
    "\n",
    "data = SDSS.query_sql(query_string,verbose=False)\n",
    "print(data)"
   ]
  },
  {
   "cell_type": "code",
   "execution_count": 9,
   "metadata": {},
   "outputs": [
    {
     "name": "stdout",
     "output_type": "stream",
     "text": [
      "    z         ra       dec          bestObjID     \n",
      "--------- --------- ---------- -------------------\n",
      "0.3000001 184.86409  52.571314 1237657629529211079\n",
      "0.3000009 222.98982  42.629408 1237658203986460871\n",
      "0.3000009 146.39863  5.8334459 1237658423547920434\n",
      "0.3000012 49.459411   0.847754 1237660241924063461\n",
      "0.3000018 172.28104  10.234226 1237658493349789816\n",
      "0.3000027 156.25024  7.6586271 1237658425162858683\n",
      "0.3000027 231.07321  32.718373 1237662341082382595\n",
      "0.3000033 197.37712  10.524518 1237662238545478566\n",
      "0.3000035 184.90501 -3.3095095 1237650760782053596\n",
      "0.3000037 242.52563  6.0693494 1237662198290186255\n"
     ]
    }
   ],
   "source": [
    "#Sample Query: Logical Operators\n",
    "query_string='''select top 10\n",
    "    z, ra, dec, bestObjID\n",
    "from\n",
    "    specObj\n",
    "where\n",
    "    (class = 'galaxy' or class = 'qso')\n",
    "    and z > 0.3\n",
    "    and zWarning = 0\n",
    "'''\n",
    "\n",
    "data = SDSS.query_sql(query_string,verbose=False)\n",
    "print(data)"
   ]
  },
  {
   "cell_type": "code",
   "execution_count": 10,
   "metadata": {},
   "outputs": [
    {
     "name": "stdout",
     "output_type": "stream",
     "text": [
      "       ra              dec        modelMag_u ... modelMag_z        objID       \n",
      "---------------- ---------------- ---------- ... ---------- -------------------\n",
      "21.7489625734203 20.8928509871811   24.47644 ...   20.93681 1237679541360656765\n",
      "21.7146801359507 20.4432857186118    23.4531 ...   20.20991 1237679461900353900\n",
      "22.3833537049599 20.0086760632325   23.31016 ...   21.33505 1237679504864968995\n",
      "20.4532228010766 19.4146674875702   23.74691 ...    23.3264 1237679503790441055\n",
      "20.4575029739604 19.4034512992811   22.09286 ...   21.46572 1237679503790441061\n",
      "23.8528956918851  17.960344971995   25.89019 ...   23.56271 1237679459216982791\n",
      "23.8678603354314 18.0722111769438     24.668 ...   23.14229 1237679459216982799\n",
      "24.1930872176298 19.1999599866118    23.1454 ...   21.21239 1237679460827660758\n",
      " 23.789412470134 18.2858004580844   24.12651 ...   20.76979 1237679502718141036\n",
      "23.7877842920117 18.2587365072431   24.26909 ...   21.52649 1237679502718141037\n"
     ]
    }
   ],
   "source": [
    "# Sample Query: Logical Operators\n",
    "query_string='''select top 10\n",
    "    ra, dec, modelMag_u, modelMag_g, modelMag_r, modelMag_i, modelMag_z, objID\n",
    "from\n",
    "    photoObj\n",
    "where\n",
    "    type = 6\n",
    "    and modelMag_u - modelMag_g < 0.5\n",
    "'''\n",
    "\n",
    "data = SDSS.query_sql(query_string,verbose=False)\n",
    "print(data)"
   ]
  },
  {
   "cell_type": "markdown",
   "metadata": {},
   "source": [
    "> **Practice 3**: What are the reddest galaxies in the area of the sky near ra=141?\n",
    "> \n",
    "> Write a query to search for galaxies between ra = 140.9 and ra=141.1 brighter than g=18.0 for which u-g>2.2. Retrieve the Object ID, ra, dec, and the five final magnitudes."
   ]
  },
  {
   "cell_type": "code",
   "execution_count": 11,
   "metadata": {},
   "outputs": [
    {
     "name": "stdout",
     "output_type": "stream",
     "text": [
      "       ra               dec               objID        ...    i        z    \n",
      "---------------- ----------------- ------------------- ... -------- --------\n",
      "140.948230649732   34.483574462363 1237661384381366396 ...   15.211 24.00461\n",
      "140.948701561789  20.3640889698011 1237667430093946907 ... 13.52119 22.82682\n",
      "140.948939710061  5.18415672585073 1237658298989477950 ... 15.69538  15.9476\n",
      "140.948956885199  7.46708493894529 1237660412651241576 ... 15.91807 25.27582\n",
      "141.024988886179  9.08516071268445 1237660670348689505 ... 10.04595 10.40133\n",
      "140.950050320666 -2.17559710094289 1237654897379049716 ... 16.77177 16.69215\n",
      "140.950359995667  2.10954149516854 1237653665254867256 ... 16.53457 17.84776\n",
      "140.950378430045  2.10952650408391 1237673708259312052 ... 16.94447 27.22122\n",
      "140.951380330637  -2.0913273185689 1237650804262895728 ... 15.75504 24.33615\n",
      "141.027608737349  3.46454593595706 1237674460952723503 ... 15.61969 22.83003\n",
      "             ...               ...                 ... ...      ...      ...\n",
      "140.938884495772  16.3163049773465 1237667782279561250 ... 10.95903 13.45842\n",
      "140.939315037646  4.98443131362403 1237658298989478043 ... 12.11671 22.82391\n",
      "140.939527056133  58.3681330142155 1237651192435441730 ... 15.39057 23.24913\n",
      "140.939566110935  52.5739922262387 1237654337955692580 ...  14.7516 22.99984\n",
      " 141.01774913809  61.7740708137726 1237663529190948936 ... 19.47952  22.6654\n",
      "141.018915818176  64.0369314783334 1237663548519022632 ... 11.05325 11.58111\n",
      "141.019524565409  3.71277752112334 1237673709870317642 ...  10.3149 10.64027\n",
      "141.096696087987  60.4667447474894 1237660936630894614 ... 16.48354 15.29526\n",
      "141.096807362719   4.7536676691974 1237658298452672588 ... 14.91841 22.92551\n",
      "141.097396141417  25.7847508454395 1237665096852111400 ... 13.30948 11.98825\n",
      "141.097408380823  25.7846744487321 1237667113870098469 ... 13.28956 12.06627\n",
      "Length = 375 rows\n"
     ]
    }
   ],
   "source": [
    "# Practice 3\n",
    "query_string='''\n",
    "select\n",
    "    ra, dec, objID, u, g, r, i, z\n",
    "from \n",
    "    photoObj\n",
    "where\n",
    "    ra between 140.9 and 141.1 and\n",
    "    g<18.0 and\n",
    "    u-g>2.2 and\n",
    "    type=3\n",
    "'''\n",
    "\n",
    "data = SDSS.query_sql(query_string,verbose=False)\n",
    "print(data)"
   ]
  },
  {
   "cell_type": "markdown",
   "metadata": {},
   "source": [
    "> **Practice 4**: What are the highest-redshift quasars in the SDSS database?\n",
    "> \n",
    "> Write a query to search for quasars for which we have obtained spectra (search the specObj table) with redshifts greater than 4.5 and good measurements (zWarning = 0). Retrieve each quasar's Photo ID, ra dec, and redshift"
   ]
  },
  {
   "cell_type": "code",
   "execution_count": 13,
   "metadata": {},
   "outputs": [
    {
     "name": "stdout",
     "output_type": "stream",
     "text": [
      "    ra        dec           bestObjID         z    \n",
      "--------- ------------ ------------------- --------\n",
      "226.87766    55.619792 1237655465388999582 4.500529\n",
      "166.32833    19.832961 1237668290162131387  4.50241\n",
      "167.10967   0.61852761 1237674650996769779 4.502814\n",
      "145.02001    5.4419457 1237674460417754011 4.503839\n",
      "116.39974    33.178191 1237674289681072697 4.504273\n",
      "127.76246    52.592732 1237651272960836116 4.504608\n",
      " 188.6143    29.449435 1237667253480325869 4.504811\n",
      "34.927581  -0.19360219 1237666407920829375 4.505384\n",
      "132.93219    23.535822 1237665098459382395 4.505914\n",
      " 29.34542    2.0443026 1237678618504397427 4.507283\n",
      "      ...          ...                 ...      ...\n",
      "359.70154 -0.050893712 1237657190905086176 7.011277\n",
      " 84.75329    -8.331657                   0 7.011646\n",
      "86.598473    -8.770931                   0 7.012201\n",
      "164.41107    25.843305 1237667430103646798  7.01309\n",
      " 205.4236    20.996424 1237667782306234636 7.014935\n",
      "359.91718 -0.080629403 1237657190905151776 7.016781\n",
      "86.339605    -9.486966                   0 7.023096\n",
      " 225.9364    16.376438 1237667733989032026 7.026023\n",
      " 70.40932    26.298202 1237660559746793840 7.027699\n",
      "85.957799    -9.373589                   0 7.038874\n",
      "195.55172     13.68245 1237662524159754592 7.042665\n",
      "Length = 2147 rows\n"
     ]
    }
   ],
   "source": [
    "# Practice 4\n",
    "query_string='''\n",
    "select \n",
    "    ra, dec, bestObjID, z\n",
    "from\n",
    "    specObj\n",
    "where\n",
    "    z>4.5 and\n",
    "    zWarning=0 and\n",
    "    class = 'qso'\n",
    "\n",
    "'''\n",
    "\n",
    "data = SDSS.query_sql(query_string,verbose=False)\n",
    "print(data)"
   ]
  },
  {
   "cell_type": "code",
   "execution_count": 14,
   "metadata": {},
   "outputs": [
    {
     "name": "stdout",
     "output_type": "stream",
     "text": [
      "plate  mjd  fiberID ...        dec             z            ObjID       \n",
      "----- ----- ------- ... ------------------ --------- -------------------\n",
      "  435 51882     441 ...   41.7736025629101 0.3626565 1237651191889133881\n",
      "  266 51630     133 ... -0.790101585801458  0.367843 1237650795146182823\n",
      "  486 51910     587 ...     61.83930260932 0.3947759 1237651272429994188\n",
      "  485 51909     217 ...   59.1344403245852 0.3324974 1237651271891419302\n",
      "  444 51883      17 ...   52.2959788151139 0.3289169 1237651192431640602\n",
      "  443 51873     185 ...   48.0359554376333  0.352139 1237651190819062130\n",
      "  441 51868     197 ...   46.1619374339292 0.3525363 1237651190818013682\n",
      "  474 52000      19 ... -0.718146481855907  0.352988 1237650795144740934\n",
      "  430 51877     492 ...   14.4605752650757 0.3105766 1237649920581959798\n",
      "  425 51898     550 ...   14.8252956181591  0.369752 1237649920579862757\n",
      "  ...   ...     ... ...                ...       ...                 ...\n",
      "  616 52442     470 ...   54.2451736767219 0.3662273 1237651250973573185\n",
      "  610 52056     393 ...   59.1594545205852 0.3748707 1237651250970165491\n",
      "  608 52081     396 ...   60.3018731485033 0.3557756 1237651250969313424\n",
      "  604 52079      78 ...   63.2311016507243 0.3231665 1237651250966429725\n",
      "  602 52072     392 ...   64.6451764498209 0.3090932 1237651250963873873\n",
      "  626 52057     403 ...   44.8943459863295 0.3544186 1237651250442076277\n",
      "  624 52377     341 ...   47.5671491878967 0.3352541 1237651250440569147\n",
      "  622 52054      74 ...   47.6937521596261 0.3079157 1237651250440503560\n",
      "  605 52353     126 ...   62.1738281193691 0.3297572 1237651250430345231\n",
      "  605 52353     258 ...   62.3095704643739 0.3286313 1237651250430017615\n",
      "  602 52072     155 ...   63.9921175013084 0.3293749 1237651250427527325\n",
      "Length = 100 rows\n"
     ]
    }
   ],
   "source": [
    "# Sample Query: Joining\n",
    "query_string='''select top 100\n",
    "    x.plate, x.mjd,\n",
    "    s.fiberID,\n",
    "    p.modelMag_u, p.modelMag_g, p.ModelMag_r, p.ModelMag_i, p.ModelMag_z,\n",
    "    p.ra, p.dec,\n",
    "    s.z, p.ObjID\n",
    "from photoObj p\n",
    "join specObj s on s.bestobjid = p.objid\n",
    "join plateX x on x.plateID = s.plateID\n",
    "where\n",
    "    s.class = 'qso'\n",
    "    and s.zwarning = 0\n",
    "    and s.z between 0.3 and 0.4\n",
    "'''\n",
    "\n",
    "data = SDSS.query_sql(query_string,verbose=False)\n",
    "print(data)"
   ]
  },
  {
   "cell_type": "markdown",
   "metadata": {},
   "source": [
    "> **Practice 5**: How can you look up image data, plates, and spectra of moderately bright galaxies?\n",
    "> \n",
    "> Write a query to find 100 galaxies for which we have spectra that have g magnitude between 17 and 17.4 and redshift less than 0.05. For each galaxy retrieve the object ID, the five magnitudes, the redshift, the plate/MJD number, and the fiber number."
   ]
  },
  {
   "cell_type": "code",
   "execution_count": 16,
   "metadata": {},
   "outputs": [
    {
     "name": "stdout",
     "output_type": "stream",
     "text": [
      "     bestObjID         u        g        r     ...    z     fiberID plate  mjd \n",
      "------------------- -------- -------- -------- ... -------- ------- ----- -----\n",
      "1237648720685301897 18.27173  17.0717 16.65145 ... 16.27766     144   274 51913\n",
      "1237648721752555640 19.13766 17.23995 16.29899 ... 15.38905     383   266 51630\n",
      "1237648721752621240 18.38335 17.32703 17.39917 ... 17.59595     438   266 51630\n",
      "1237648720148693392 18.86752 17.33773 16.80683 ... 16.38996     245   275 51910\n",
      "1237648721219485979 18.58894 17.37458 16.94893 ... 16.77008     234   271 51883\n",
      "1237648704577601678 18.48543   17.339 16.90179 ... 16.48684     637   287 52023\n",
      "1237649918968660092 19.32904 17.20216 16.65694 ... 16.56159       8   424 51893\n",
      "1237648720685826207 19.03796 17.35102 16.56406 ... 15.90696     188   275 51910\n",
      "1237648721753276559 18.36063 17.22968 16.69767 ... 16.30265     640   266 51630\n",
      "1237648720149283041 18.41814 17.17549 16.63656 ...  16.1021     282   276 51909\n",
      "                ...      ...      ...      ... ...      ...     ...   ...   ...\n",
      "1237648721226957027 19.06264 17.20004 16.37346 ... 15.69135     236   281 51614\n",
      "1237650371555623026 18.30811 17.27847 16.88896 ... 16.50977     429   331 52368\n",
      "1237649921120927932 18.51666 17.15436 16.53455 ... 15.99914     534   428 51883\n",
      "1237651272958214378 18.24063 17.17635   16.758 ... 16.28309     578   438 51884\n",
      "1237648722292113603 18.51879 17.30699 16.84687 ... 16.68278     615   269 51910\n",
      "1237651252583989462 18.74765 17.15057 16.42403 ... 15.70499     244   617 52072\n",
      "1237651066811777111 18.05871 17.06542 16.72894 ... 16.39627     274  2882 54498\n",
      "1237651252584054985 18.50891 17.26101 16.60857 ...  15.9532     207   617 52072\n",
      "1237648722294341801 18.57648 17.00995  16.2635 ... 15.64535     619   272 51941\n",
      "1237651272958476588 18.29556  17.1927 16.79865 ... 16.34068     251   440 51885\n",
      "1237651496294285410 18.46549 17.13699 16.63354 ... 16.23611     435   436 51883\n",
      "Length = 100 rows\n"
     ]
    }
   ],
   "source": [
    "# Practice 5\n",
    "query_string='''\n",
    "select top 100\n",
    "    s.bestObjID, p.u, p.g, p.r, p.i, p.z, s.fiberID, s.plate, s.mjd\n",
    "from specObJ s\n",
    "join photoObJ p on s.bestObjID = p.ObjID\n",
    "where\n",
    "    s.z <0.05 and\n",
    "    p.g between 17 and 17.4 and\n",
    "    s.class='galaxy' and\n",
    "    s.zwarning = 0\n",
    "'''\n",
    "\n",
    "data = SDSS.query_sql(query_string,verbose=False)\n",
    "print(data)"
   ]
  },
  {
   "cell_type": "markdown",
   "metadata": {},
   "source": [
    "---\n",
    "You can **stop here**, or continue on if you have time.\n",
    "\n",
    "---"
   ]
  },
  {
   "cell_type": "code",
   "execution_count": null,
   "metadata": {},
   "outputs": [],
   "source": [
    "# Sample Query: Aggregate functions\n",
    "query_string='''select \n",
    "    min(dec) as min_dec, max(dec) as max_dec, avg(dec) as avg_dec\n",
    "from\n",
    "    photoObj\n",
    "where\n",
    "    run = 5112\n",
    "'''\n",
    "\n",
    "data = SDSS.query_sql(query_string,verbose=False)\n",
    "print(data)"
   ]
  },
  {
   "cell_type": "code",
   "execution_count": null,
   "metadata": {},
   "outputs": [],
   "source": [
    "# Sample Query: The Group By command\n",
    "query_string='''select \n",
    "    class, count(z) as num_redshift\n",
    "from \n",
    "    specObj\n",
    "where\n",
    "    z between 0.5 and 1\n",
    "group by\n",
    "    class\n",
    "'''\n",
    "\n",
    "data = SDSS.query_sql(query_string,verbose=False)\n",
    "print(data)"
   ]
  },
  {
   "cell_type": "code",
   "execution_count": null,
   "metadata": {},
   "outputs": [],
   "source": [
    "# Sample Query: The Order By command\n",
    "query_string='''select mjd,plate\n",
    "from\n",
    "    plateX\n",
    "where\n",
    "    plate <= 275\n",
    "order by mjd\n",
    "'''\n",
    "\n",
    "data = SDSS.query_sql(query_string,verbose=False)\n",
    "print(data)"
   ]
  },
  {
   "cell_type": "markdown",
   "metadata": {},
   "source": [
    "> **Practice 7**: What are the northernmost and southernmost objects with spectra measured by the SDSS?"
   ]
  },
  {
   "cell_type": "code",
   "execution_count": null,
   "metadata": {},
   "outputs": [],
   "source": [
    "# Practice 7\n",
    "query_string='''\n",
    "\n",
    "'''\n",
    "\n",
    "data = SDSS.query_sql(query_string,verbose=False)\n",
    "\n",
    "# We can now print the results\n",
    "print(data)"
   ]
  },
  {
   "cell_type": "markdown",
   "metadata": {},
   "source": [
    "> **Practice 8**: What is the redshift of the nearest galaxy whose spectrum was measured by the SDSS with high confidence (zWarning=0)? \n",
    ">\n",
    "> Compare the distance you found to the distance to the Andromeda Galaxy (2 million light-years) and the Whirlpool Galaxy (37 millions light-years). Does the distance you found seem reasonable?"
   ]
  },
  {
   "cell_type": "code",
   "execution_count": null,
   "metadata": {},
   "outputs": [],
   "source": [
    "# Practice 8\n",
    "query_string='''\n",
    "\n",
    "'''\n",
    "\n",
    "data = SDSS.query_sql(query_string,verbose=False)\n",
    "print(data['redshift'][0],data['redshift'][0]/(7.11e-11))"
   ]
  },
  {
   "cell_type": "markdown",
   "metadata": {},
   "source": [
    "> **Practice 9**: What field has galaxies with the highest average redshifts in run=5112, camcol=1?\n",
    ">\n",
    "> Be sure you are searching fields (as run-camcol-field) for galaxies. Also look at how many spectrally measured galaxies are in the field - make sure you don't pick a field with only one or two galaxies! Also note that this query will probably take a long time to execute."
   ]
  },
  {
   "cell_type": "code",
   "execution_count": null,
   "metadata": {},
   "outputs": [],
   "source": [
    "# Practice 9\n",
    "query_string='''\n",
    "\n",
    "'''\n",
    "\n",
    "data = SDSS.query_sql(query_string,verbose=False)\n",
    "print(data)"
   ]
  },
  {
   "cell_type": "markdown",
   "metadata": {},
   "source": [
    "---\n",
    "You can **stop here**, or continue on if you have time.\n",
    "\n",
    "---"
   ]
  },
  {
   "cell_type": "code",
   "execution_count": null,
   "metadata": {},
   "outputs": [],
   "source": [
    "# Sample Query: Functions\n",
    "# Search for all objects within 5 arcminutes of ra=140, dec = 20\n",
    "query_string='''SELECT\n",
    "    p.ObjID, p.ra, p.dec, p.u, p.g, p.r, p.i, p.z\n",
    "FROM photoObj p\n",
    "JOIN dbo.fGetNearbyObjEq(140,20,5) n ON n.objID = p.objID\n",
    "WHERE\n",
    "    p.type = 3\n",
    "'''\n",
    "\n",
    "data = SDSS.query_sql(query_string,verbose=False)\n",
    "print(data)"
   ]
  },
  {
   "cell_type": "code",
   "execution_count": null,
   "metadata": {},
   "outputs": [],
   "source": [
    "# Sample Query: Flags\n",
    "# Find English names for flags of all stars around the point 175,1\n",
    "query_string='''SELECT\n",
    "    p.ObjID, p.flags, dbo.fPhotoFlagsN(p.flags)\n",
    "FROM photoObj p\n",
    "JOIN dbo.fGetNearbyObjEq(140,20,5) n ON n.objID = p.objID\n",
    "WHERE\n",
    "    p.type = 6\n",
    "'''\n",
    "\n",
    "data = SDSS.query_sql(query_string,verbose=False)\n",
    "print(data)"
   ]
  },
  {
   "cell_type": "code",
   "execution_count": null,
   "metadata": {},
   "outputs": [],
   "source": [
    "# Sample Query: Flags\n",
    "query_string='''SELECT\n",
    "    p.ObjID, p.ra, p.dec, dbo.fPhotoFlagsN(p.flags)\n",
    "FROM photoObj p\n",
    "JOIN dbo.fGetNearbyObjEq(140,20,5) n ON n.objID = p.objID\n",
    "WHERE\n",
    "    (p.flags & dbo.fPhotoFlags('SATURATED')) = 0\n",
    "'''\n",
    "\n",
    "data = SDSS.query_sql(query_string,verbose=False)\n",
    "print(data)"
   ]
  },
  {
   "cell_type": "markdown",
   "metadata": {},
   "source": [
    "> **Practice 10**: In the field 5112-6-119, what percentage of all objects detected by SDSS are too close to the edge of their fields to be trusted?\n",
    ">\n",
    "> Hint: Use two searches, one with a flag and one without. Search run=5112, camcol=6, field=119"
   ]
  },
  {
   "cell_type": "code",
   "execution_count": null,
   "metadata": {},
   "outputs": [],
   "source": [
    "#Practice 10\n",
    "query_string='''\n",
    "\n",
    "'''\n",
    "\n",
    "data = SDSS.query_sql(query_string,verbose=False)\n",
    "print(data)"
   ]
  },
  {
   "cell_type": "code",
   "execution_count": null,
   "metadata": {},
   "outputs": [],
   "source": [
    "#Practice 10\n",
    "query_string='''\n",
    "\n",
    "'''\n",
    "\n",
    "data = SDSS.query_sql(query_string,verbose=False)\n",
    "print(data)"
   ]
  },
  {
   "cell_type": "markdown",
   "metadata": {},
   "source": [
    "> **Practice 11**: Choose a galaxy cluster from SkyServer's Famous Places tool. Write a query to select galaxies in the cluster, and only galaxies in the cluster\n",
    ">\n",
    "> Hint: After you pick a cluster, use the Navigation Tool to examine the cluster. Guess which galaxies belong to the cluster - you should be able to tell just by looking. Click on 5-10 galaxies and save them in your online notebook. Open the notebook to look for features that the cluster galaxies have in common. Guess the center position and radius of the galaxies. Then, write a query that uses what you have learned to search for the cluster galaxies."
   ]
  },
  {
   "cell_type": "code",
   "execution_count": null,
   "metadata": {},
   "outputs": [],
   "source": [
    "# Practice 11\n",
    "query_string='''\n",
    "\n",
    "'''\n",
    "\n",
    "data = SDSS.query_sql(query_string,verbose=False)\n",
    "\n",
    "# We can now print the results\n",
    "print(data)"
   ]
  },
  {
   "cell_type": "markdown",
   "metadata": {},
   "source": [
    "- Challenge 1: What percentage of galaxies have spectral redshifts measured? What percentage have photometric redshifts taken? What are the advantages of using photometric redshifts? Try to compare photometric and spectral redshifts; how accurate are photometric redshifts?\n",
    "- Challenge 2: What are the limits in ra and dec of stripes 42 and 43, two of the SDSS's diagonal stripes?\n",
    "- Challenge 3: Look at colors and spectra of stars, and find stars consistent with white dwarfs. Create a list of white dwarfs in the SDSS database.\n",
    "- Challenge 4: What are the largest galaxies in the SDSS, in terms of size? Hint: Look at surface brightness and ellipticity.\n",
    "- Challenge 5: Find all objects with spectra classified as unknown.\n",
    "- Challenge 6: Find the broad absorption line (BAL) quasars in the SDSS database. At what redshift are most BAL quasars found?\n",
    "- Challenge 7: Find variable stars in the SDSS (stars imaged more than once whose magnitude changed by more than 0.1 between observations). How variable are the stars?"
   ]
  },
  {
   "cell_type": "markdown",
   "metadata": {},
   "source": [
    "SQL is a common language for querying databases. The International Virtual Observatory Association supports use of the Astronomy Database Query Language (ADQL), and is used by e.g. GAIA [https://www.gaia.ac.uk/data/gaia-data-release-1/adql-cookbook](https://www.gaia.ac.uk/data/gaia-data-release-1/adql-cookbook). Sincd ADQL is built on from SQL, much of the syntax is the same. "
   ]
  },
  {
   "cell_type": "code",
   "execution_count": null,
   "metadata": {},
   "outputs": [],
   "source": []
  }
 ],
 "metadata": {
  "kernelspec": {
   "display_name": "Python 3",
   "language": "python",
   "name": "python3"
  },
  "language_info": {
   "codemirror_mode": {
    "name": "ipython",
    "version": 3
   },
   "file_extension": ".py",
   "mimetype": "text/x-python",
   "name": "python",
   "nbconvert_exporter": "python",
   "pygments_lexer": "ipython3",
   "version": "3.7.3"
  }
 },
 "nbformat": 4,
 "nbformat_minor": 2
}
