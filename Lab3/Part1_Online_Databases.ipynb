{
 "cells": [
  {
   "cell_type": "markdown",
   "metadata": {},
   "source": [
    "# Online Databases\n",
    "---"
   ]
  },
  {
   "cell_type": "markdown",
   "metadata": {},
   "source": [
    "### Names: [Enter your names here]\n",
    "\n",
    "Many observatories host their data online, making them easily accessible to astronomers around the world. This lab will introduce you to various online databases, how to access their data and then introduce you to SQL, a language for querying online databases."
   ]
  },
  {
   "cell_type": "markdown",
   "metadata": {},
   "source": [
    "## Online data\n",
    "\n",
    "A number of online databases collect astronomical data sets. These databases can include repositories for specific observatories, or can collect data from multiple observatories. Within the databases you can find raw data (e.g. original images), processed products (e.g. processed images, photometry), or derived values (e.g. effective temperature of a star, redshift of a galaxy). \n",
    "\n",
    "### General Databases\n",
    "A number of databases provide general information about an object (or list of objects), as pulled from various sources. One main example is the *SIMBAD* database [http://simbad.u-strasbg.fr/simbad/](http://simbad.u-strasbg.fr/simbad/)\n",
    "\n",
    "> Click on the link for **SIMBAD**. In the SIMBAD main page click **basic search**, enter **Betelgeuse** in the search box and hit **enter**. \n",
    "\n",
    "You will see a page containing information on Betelgeuse, including its position on the sky, spectral type, motion (proper motion, radial velocity, parallax), and photometric data. There is also a thumbnail image and, scrolling down, you can see a list of alternate names, a way to access published research on Betelgeuse, a way to access collected data on the object, and links to external archives. SIMBAD serves as a useful one-stop shop for finding more information on a target.\n",
    "\n",
    "> **Q:** Search for the exoplanet host star 55 Cancri. Record its RA, Dec, and spectral type in the space below\n",
    "\n",
    "|55 Cancri    |                      |\n",
    "|:-----------:|----------------------|\n",
    "|RA           |**[your answer here]**|\n",
    "|Dec          |**[your answer here]**|\n",
    "|Spectral Type|**[your answer here]**|\n",
    "\n",
    "\n",
    "\n",
    "*SIMBAD* is only one example of such a database. Others include:\n",
    "- *NED* (NASA/IPAC Extragalactic Database) [https://ned.ipac.caltech.edu](https://ned.ipac.caltech.edu): A database focused on extragalactic sources.\n",
    "- *JPL Horizons System* [https://ssd.jpl.nasa.gov/?horizons](https://ssd.jpl.nasa.gov/?horizons): Highly accurate solar system data.\n",
    "- *NASA Exoplanet Archive* [https://exoplanetarchive.ipac.caltech.edu](https://exoplanetarchive.ipac.caltech.edu): Focuses on exoplanets. \n",
    "- *Solar System Object Image Search* [http://www.cadc-ccda.hia-iha.nrc-cnrc.gc.ca/en/ssois/](http://www.cadc-ccda.hia-iha.nrc-cnrc.gc.ca/en/ssois/): Like the name suggests, this lets you search for images of solar system objects\n",
    "- *Transient Name Server* [https://wis-tns.weizmann.ac.il/](https://wis-tns.weizmann.ac.il/), *The Open Supernova Catalog* [https://sne.space/](https://sne.space/), *The Open TDE Catalog* [https://tde.space](https://tde.space), *The Open Kilonova Catalog* [https://kilonova.space/](https://kilonova.space/): Catalogs of transient event (Supernovae, tidal disruption events, etc.) \n",
    "- *NASA ADS* (Abstract Database Service) [https://ui.adsabs.harvard.edu](https://ui.adsabs.harvard.edu)\n",
    "\n",
    "The last database does not contain data, but does allow you to search through research papers. As you get deeper into research, *ADS* will be a frequent destination.\n",
    "\n",
    "> **Q:** Within *NED*, search for the galaxy Arp 220. In the table below, record its RA, Dec, and distance.\n",
    "\n",
    "|Arp 220      |                      |\n",
    "|:-----------:|----------------------|\n",
    "|RA           |**[your answer here]**|\n",
    "|Dec          |**[your answer here]**|\n",
    "|Distance     |**[your answer here]**|\n",
    "\n",
    "\n",
    "> **Q:** The following list contains galaxies from the Messier catalog. Based on the data in NED, which of these galaxies has a diameter larger than the field of view of the camera on our 24-inch telescope (20'), but smaller than the field of view of our Wide-Field Camera (~1 degree)? \n",
    ">\n",
    "> M31, M49, M66, M83, M95, M102, M105, M106, M109, M110\n",
    ">\n",
    "> Large Galaxies: **[Your answer here]**\n",
    ">\n",
    "> Small Galaxies: **[Your answer here]**\n",
    "\n",
    "> **Q:** What is the average distance among the large galaxies? What is the average distance among the smaller galaxies? (Hint: Don't rely on the Hubble Distance on the main page for these nearby galaxies, but look under the Distances tab and use the most recent distance measurement)\n"
   ]
  },
  {
   "cell_type": "code",
   "execution_count": null,
   "metadata": {},
   "outputs": [],
   "source": [
    "# Calculate average distance to large and small galaxies here. "
   ]
  },
  {
   "cell_type": "markdown",
   "metadata": {},
   "source": [
    "\n",
    "### Data Databases\n",
    "\n",
    "Some databases focus on collecting data from multiple telescopes. This data can include photometry at different wavelengths, or images/spectra taken by different telescopes/instruments, but does not necessarily include derived properties (e.g. spectral type, distance).\n",
    "\n",
    "Examples of databases that collect data from multiple telescopes into one place include:\n",
    "- *MAST* (Mikulski Archive for Space Telescopes) [https://archive.stsci.edu](https://archive.stsci.edu): Focuses on data from space missions, including Hubble, Kepler, TESS, and JWST (after it launches).\n",
    "- *IRSA* (NASA/IPAC Infrared Science Archive) [https://irsa.ipac.caltech.edu/frontpage/](https://irsa.ipac.caltech.edu/frontpage/): Focuses on data from infrared telescopes, including Spitzer, Herschel, SOFIA, 2MASS, Planck, etc.\n",
    "- *Astro Datalab* [https://datalab.noao.edu](https://datalab.noao.edu): Provides access to data from telescopes operated by the NSF OIR Research Lab (formely NOAO)\n",
    "- *Vizier* [https://vizier.u-strasbg.fr](https://vizier.u-strasbg.fr): Provides access to published astronomical catalogues. Useful if you are looking for all available data on a list of objects from smaller surveys. These tables may also contain derived parameters (e.g. spectral type, distance). \n",
    "- *Worldwide Telescope* [http://www.worldwidetelescope.org/webclient/](http://www.worldwidetelescope.org/webclient/), *ESA-Sky* [https://sky.esa.int](https://sky.esa.int): Both are tools for the visualization and sharing of data from observatories around the world. The Worldwide telescope is sponsored by the American Astronomical Society, while ESA-Sky is sponsored by the European Space Agency. Both provide similar, although not identical, functionality. \n",
    "- *Virtual Observatory* [http://ivoa.net](http://ivoa.net): A project to seamlessly integrate all astronomical catalogues and databases.\n",
    "- *Topcat* [http://www.star.bris.ac.uk/~mbt/topcat/](http://www.star.bris.ac.uk/~mbt/topcat/): A stand-alone java based program that provides access to various databases.\n",
    "\n",
    "\n",
    "\n",
    "All of the above databases focus on collecting data from multiple different telescopes/sources. Many individual telescopes also host their own archives that can be accessed online. The type of data returned by these databases (e.g. raw images vs reduced images vs photometry) vary with the telescope.\n",
    "- *GAIA* [http://gea.esac.esa.int/archive/](http://gea.esac.esa.int/archive/): Highly accurate positions, as well as parallaxes and proper motions for billions of objects.\n",
    "- *SDSS* (Sloan Digital Sky Survey) [https://www.sdss.org/dr16/data_access/](https://www.sdss.org/dr16/data_access/): Optical imaging and spectroscopy for millions of objects across much of the sky. We will return to data access within SDSS later.\n",
    "- *CXC* (Chandra X-ray Center) [http://cxc.harvard.edu/cda/](http://cxc.harvard.edu/cda/): High-energy observations from one of NASA's Great Observatories\n",
    "- *ALMA* (Atacama Large submillimeter/Millimeter Array) [http://almascience.nrao.edu/aq/](http://almascience.nrao.edu/aq/): Radio data from ALMA\n",
    "\n",
    "Some numerical simulations even host their results online:\n",
    "- *Millennium Simulation* [https://wwwmpa.mpa-garching.mpg.de/millennium/](https://wwwmpa.mpa-garching.mpg.de/millennium/)\n",
    "- *The EAGLE Project* [http://icc.dur.ac.uk/Eagle/database.php](http://icc.dur.ac.uk/Eagle/database.php)\n",
    "- *IllustrisTNG* [https://www.tng-project.org/data/](https://www.tng-project.org/data/)\n",
    "\n",
    "And some focus exclusively on derived data products:\n",
    "- *3D Dust Mapping* [http://argonaut.skymaps.info](http://argonaut.skymaps.info)\n",
    "- *Interstellar Radiation Field Calculator* [https://cads.iiap.res.in/tools/isrfCalc](https://cads.iiap.res.in/tools/isrfCalc)\n",
    "\n",
    "\n"
   ]
  },
  {
   "cell_type": "markdown",
   "metadata": {},
   "source": [
    ">**Q:** The following block of code reads in a file containing the positions of galaxies observed by SDSS that are part of the Abell 0958 cluster and then plots these positions. It also includes vertical and horizontal lines marking the average position within the cluster. *But the code contains some errors.* Fix the errors to display the positions of these galaxies."
   ]
  },
  {
   "cell_type": "code",
   "execution_count": null,
   "metadata": {},
   "outputs": [],
   "source": [
    "import matplotlib.pyplot as plt\n",
    "import numpy as np\n",
    "%matplotlib inline\n",
    "\n",
    "abell_data = np.loadtxt('Abell0958.csv',delimiter=',',skiprows=2) # Read in the data\n",
    "ra = abell_data[:,4]    # Place the right ascension values in their own variable.\n",
    "dec = abell_data[:,5]   # Place the declination values in their own variable.\n",
    "\n",
    "plt.plot(x,y,marker='o',color='k',linestyle='')    # Plot the data as black circles\n",
    "plt.xlabel('Right Ascension'                       # Label the x-axis with the given string\n",
    "plt.ylabel(Declination)                            # Label the y-axis with the given string\n",
    "plt.title('Abell 0958')                            # Add a title using the given string\n",
    "plt.axvline(np.mean(dec),alpha=.5)                 # Add a vertical line at the average RA\n",
    "plt.axhline(np.mean(ra),alpha=.5)                  # Add a horizontal line at the average Dec"
   ]
  },
  {
   "cell_type": "markdown",
   "metadata": {},
   "source": [
    "The above block of code introduces a new method for plotting, this time plotting individual points instead of a line.\n",
    "\n",
    "In the tutorial you saw the following block of code for plotting a line:"
   ]
  },
  {
   "cell_type": "code",
   "execution_count": null,
   "metadata": {},
   "outputs": [],
   "source": [
    "x = np.linspace(0,10,100)\n",
    "y = np.sin(x)\n",
    "plt.plot(x,y)"
   ]
  },
  {
   "cell_type": "markdown",
   "metadata": {},
   "source": [
    "Plotting data points instead of a line involves setting a marker symbol as a string, and then setting the linestyle keyword to an empty string so that it does not plot a line connecting the points (you can set the linestyle to a value, or leave out the keyword, if you would like a line connected the points). The various marker symbol options are [listed online](https://matplotlib.org/3.1.0/api/markers_api.html#module-matplotlib.markers), and some common choices are:\n",
    "- `'o'`: a circle\n",
    "- `'.'`: a dot\n",
    "- `'x'`: a cross\n",
    "- `'+'`: a plus sign\n",
    "- `'d'`: a diamond\n",
    "\n",
    "We also introduced a way to specify the color of the symbol/line, using the color keyword. This keyword takes a string corresponding to the desired color. There are many options, [listed online](https://matplotlib.org/3.1.0/gallery/color/named_colors.html), and some common choices are:\n",
    "- `'k'`: black\n",
    "- `'b'`: blue\n",
    "- `'g'`: green\n",
    "- `'r'`: red"
   ]
  },
  {
   "cell_type": "code",
   "execution_count": null,
   "metadata": {},
   "outputs": [],
   "source": [
    "#Similar to above, but with points\n",
    "plt.plot(x,y,marker='.',color='k',linestyle='')\n",
    "\n",
    "#We can overplot another dataset simply by called plt.plot again\n",
    "plt.plot(x,2*y,marker='x',color='g',linestyle='')\n",
    "plt.plot(x,0.3*y,marker='+',color='r',linestyle='')"
   ]
  },
  {
   "cell_type": "markdown",
   "metadata": {},
   "source": [
    "Now, let us get back to using databases.\n",
    "\n",
    "> **Q:** Here you will use GAIA data to estimate the distance to some open clusters. \n",
    ">\n",
    "> **Part 1:** Go to the GAIA archive and click on the Search link. In the name text box, enter `Pleiades` and change the search radius to 10 arcmin. You will use the parallax to measure the distance (distance = 1000/parallax, with the parallax in units of milli-arcseconds (mas)) and to get an accurate distance you need to restrict your search to those stars that have accurate parallax data. To do this, under Extra conditions add a condition that restricts parallax_over_error to >=20. Hit submit query; the results will quickly be displayed on the screen. To download these results, in the drop down menu at the bottom select CSV (= comma separated variables) and then click Download results. Copy the downloaded file into your Lab3_Databases folder (you can also rename it to something easier to keep track off).\n",
    ">\n",
    "> **Part 2:** Now you will write a function that will use the data from this file to calculate the average distance. \n",
    "> - First define a function that takes as an input the name of the text file.\n",
    "> - Within that function, read in the data from the text file (Hint: In using `np.loadtxt` to read in the data, you will need to specify the `delimiter` as a comma, and can use the `skiprows` parameter to skip the first row).\n",
    "> - Pull out the parallax from this data array and use it to compute the distance to each star. Take the average of these distances.\n",
    ">\n",
    ">\n",
    "> Average distance = **[your answer here]**"
   ]
  },
  {
   "cell_type": "code",
   "execution_count": null,
   "metadata": {},
   "outputs": [],
   "source": [
    "#code to calculate average distance goes here"
   ]
  },
  {
   "cell_type": "markdown",
   "metadata": {},
   "source": [
    "> **Q:** Use the Gaia archive and your function to find the average distance to the Beehive Cluster (M44). Start by searching for M44 within the GAIA archive, save the resulting data table, and then call your function with this data table as the input. You may need to look up the angular size of M44 to refine your search.\n",
    ">\n",
    "> Average distance to M44 = **[your answer here]**"
   ]
  },
  {
   "cell_type": "code",
   "execution_count": null,
   "metadata": {},
   "outputs": [],
   "source": [
    "# Calculate the average distance to M44"
   ]
  },
  {
   "cell_type": "markdown",
   "metadata": {},
   "source": [
    "---\n",
    "### Part 2 \n",
    "Open the SDSS SQL lab notebook for an introduction to SQL queries."
   ]
  },
  {
   "cell_type": "markdown",
   "metadata": {},
   "source": [
    "---\n",
    "---\n",
    "---"
   ]
  },
  {
   "cell_type": "markdown",
   "metadata": {},
   "source": [
    "## Querying within Python\n",
    "\n",
    "The previous section discussed how to access data from online databases using their various online portals. There is also a python package (`astroquery`, within the broader `astropy` package) that provides much of the same functionality within python. *This section is provided for your potential future use, but doesn't need to be completed during the lab period.*"
   ]
  },
  {
   "cell_type": "markdown",
   "metadata": {},
   "source": [
    "Let's go through an example, looking at Betelgeuse.\n",
    "\n",
    "Searching a particular archive involves loading the package for that particular archive, and using the built-in query tool. "
   ]
  },
  {
   "cell_type": "code",
   "execution_count": null,
   "metadata": {},
   "outputs": [],
   "source": [
    "#Simbad query\n",
    "from astroquery.simbad import Simbad\n",
    "\n",
    "result_table = Simbad.query_object('Betelgeuse')\n",
    "result_table.pprint_all()"
   ]
  },
  {
   "cell_type": "markdown",
   "metadata": {},
   "source": [
    "When printing the table we you will see that some of the information that was included on the website has not been included in the output. Since the resulting table is a dictionary, we can print off the keys to see the full list of returned data products."
   ]
  },
  {
   "cell_type": "code",
   "execution_count": null,
   "metadata": {},
   "outputs": [],
   "source": [
    "print(result_table.keys())"
   ]
  },
  {
   "cell_type": "markdown",
   "metadata": {},
   "source": [
    "Spectral type was not included in the default set of information. We can request that this data be included by adding the VO (Virtual Observatory) table entry."
   ]
  },
  {
   "cell_type": "code",
   "execution_count": null,
   "metadata": {},
   "outputs": [],
   "source": [
    "customSimbad = Simbad()\n",
    "customSimbad.add_votable_fields('sptype')\n",
    "result = customSimbad.query_object('Betelgeuse')\n",
    "print(result)"
   ]
  },
  {
   "cell_type": "markdown",
   "metadata": {},
   "source": [
    "You can see the available VO table fields using the `list_votable_field` function."
   ]
  },
  {
   "cell_type": "code",
   "execution_count": null,
   "metadata": {},
   "outputs": [],
   "source": [
    "# You can see the available fields with the following command\n",
    "Simbad.list_votable_fields()"
   ]
  },
  {
   "cell_type": "markdown",
   "metadata": {},
   "source": [
    "> **Q:** Using the *SIMBAD* database, look up the position, spectral type, and parallax of 55 Cancri"
   ]
  },
  {
   "cell_type": "code",
   "execution_count": null,
   "metadata": {},
   "outputs": [],
   "source": [
    "# Use the SIMBAD database to look up the position, spectral type, and parallax of 55 Cancri.\n"
   ]
  },
  {
   "cell_type": "markdown",
   "metadata": {},
   "source": [
    "Similarly, we can look up information with NED."
   ]
  },
  {
   "cell_type": "code",
   "execution_count": null,
   "metadata": {},
   "outputs": [],
   "source": [
    "#NED query\n",
    "from astroquery.ned import Ned\n",
    "result = Ned.query_object('Arp 220')\n",
    "print(result)\n",
    "print(result.keys())"
   ]
  },
  {
   "cell_type": "code",
   "execution_count": null,
   "metadata": {},
   "outputs": [],
   "source": [
    "# What is the position, redshift of Arp 220?\n",
    "print(result['RA'])\n",
    "print(result['DEC'])\n",
    "print(result['Redshift'])"
   ]
  },
  {
   "cell_type": "code",
   "execution_count": null,
   "metadata": {},
   "outputs": [],
   "source": [
    "#Other tables can be queried from NED\n",
    "arp_photometry = Ned.get_table('Arp 220',table='photometry')\n",
    "arp_redshifts = Ned.get_table('Arp 220',table='redshifts')\n",
    "\n",
    "print('Photometry keys: ',arp_photometry.keys())\n",
    "print('\\n') #Add a space between the two outputs\n",
    "print('Redshift keys: ',arp_redshifts.keys())"
   ]
  },
  {
   "cell_type": "markdown",
   "metadata": {},
   "source": [
    "Each database works slightly differently in terms of the data that it returns, and how exactly the database can be queried. For full documentation, including various example queries and a full list of available databases, go to the astroquery website [https://astroquery.readthedocs.io/en/latest/](https://astroquery.readthedocs.io/en/latest/)"
   ]
  },
  {
   "cell_type": "code",
   "execution_count": null,
   "metadata": {},
   "outputs": [],
   "source": []
  }
 ],
 "metadata": {
  "kernelspec": {
   "display_name": "Python 3",
   "language": "python",
   "name": "python3"
  },
  "language_info": {
   "codemirror_mode": {
    "name": "ipython",
    "version": 3
   },
   "file_extension": ".py",
   "mimetype": "text/x-python",
   "name": "python",
   "nbconvert_exporter": "python",
   "pygments_lexer": "ipython3",
   "version": "3.7.3"
  }
 },
 "nbformat": 4,
 "nbformat_minor": 2
}
