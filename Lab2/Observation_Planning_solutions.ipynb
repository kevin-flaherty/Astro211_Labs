{
 "cells": [
  {
   "cell_type": "markdown",
   "metadata": {},
   "source": [
    "# Observation Planning\n",
    "---\n",
    "\n",
    "### Names: Solutions\n",
    "\n",
    "Any night at an observatory involves planning ahead of time. Some of this planning goes into the original request for observing time (e.g., which objects to look at, what kind of exposure times are needed, what instrument configuration to use) while some happens closer to the actual night of observing (e.g., planning the order in which to observe different objects, adjusting to the weather conditions). \n",
    "\n",
    "In preparing for an observing run, you need:\n",
    "- A list of scientifically interesting objects to look at.\n",
    "- An estimate of how long it takes to observe each object. This will include the exposure time for the particular instrument, as well as an estimate of 'overhead' associated with e.g., moving the telescope to the target, reading out the CCD, changing from one instrument to the next.\n",
    "- A list of calibration targets, if needed.\n",
    "- A schedule for when to observe the objects. This can include the time of year, as well as a list for a given night (start with the objects that rise first, and then move to the objects that rise later), and how to balance science targets vs. calibration targets, and how to fit this all into the time allowed.\n",
    "- A way to examine the data after it has been taken. When at a telescope you may need to adjust exposure times based on the conditions, and examining the data after it is taken will be crucial for this.\n",
    "\n",
    "\n",
    "This lab is designed to walk you through some of the common tasks in designing a set of observations, including estimating exposure times, determining when an object is visible in the night sky, and examining the data. There are many ways to accomplish these tasks, and here we introduce some tools that may be helpful, while others may also be available/useful. "
   ]
  },
  {
   "cell_type": "markdown",
   "metadata": {},
   "source": [
    "### Sky Coordinates\n",
    "\n",
    "When picking out objects, we need to know where they are on the sky. This includes:\n",
    "\n",
    "- Right ascension ($\\alpha$), Declination ($\\delta$): Analagous to longitude and latitude. Declination is measured in degrees (-90$^{\\circ}$ to 90$^{\\circ}$) while right ascension is measured in units of time (from 0 to 24 hours). \n",
    "- Altitude ($Alt$), Azimuth ($Az$): Defined relative to the observer. *Altitude* measures the angle from the horizon (90$^{\\circ}$ corresponds to directly overhead). *Azimuth* measures the angle along the horizon. True north corresponds to an azimuth of 0$^{\\circ}$, with azimuth increasing to the east. \n",
    "\n",
    "Related quantities include:\n",
    "- Local Sidereal time (LST): An object with a Right Ascension equal to the local sidereal time will fall on the meridian. An object which reach its highest point when its Right Ascension is equal to the LST. \n",
    "- Hour angle: LST - $\\alpha$. A measure of the distance from the meridian. Negative hour angles correspond to objects that are still rising, while positive hour angles correspond to objects that are setting. (Circumpolar objects cross the meridian twice; HA=0 corresponds to when they are highest in the sky).  \n",
    "\n",
    "> **Q:** A strong wind is coming out of the west. You can continue observing in these conditions, if you look at objects in the east. What azimuth should you focus on? Should you pick objects with a positive or negative hour angle?\n",
    "\n",
    "**A: An azimuth of ~90 degrees, or objects with a negative hour angle.**\n",
    "\n",
    "\n",
    "> **Q:** Suppose the local sidereal time at midnight is 08h30m. Of the objects listed below, which is likely to be highest in the sky? Which will be highest near sunrise six hours later?\n",
    "\n",
    "| Object | $\\alpha$ | $\\delta$ |\n",
    "|--------|----------|----------|\n",
    "| M31    |00h43m46s |+41d22m37s|\n",
    "| M42    |05h36m17s |-05d22m25s|\n",
    "| M48    |08h14m41s |-05d48m45s|\n",
    "| M64    |12h57m41s |+21d34m25s|\n",
    "| M101   |14h03m54s |+54d15m01s|\n",
    "\n",
    "**A: M48, since its Right Ascension is closest to the LST. At sunrise, M101 will be the highest.**\n",
    "\n",
    "> **Q:** In what order should the above list of objects be observed if you want to catch them at their highest?\n",
    "\n",
    "**A: In order of increasing right ascension.**"
   ]
  },
  {
   "cell_type": "markdown",
   "metadata": {},
   "source": [
    "### Estimating Exposure Times\n",
    "\n",
    "Let us assume you have a list of scientifically interesting targets, and you are now interested in estimating how long to look at each object. The metric that we often use to estimate the exposure time is the Signal-to-Noise ratio (SNR), which is proportional to the exposure time ($t$):\n",
    "\n",
    "$SNR = \\frac{N_{star}t}{\\sqrt{N_{star}t+n_{pix}(N_{sky}t+N_{dark}t+N_{read}^2)}}$\n",
    "\n",
    "The $N_{star}$ term refers to the rate at which electrons are created by the object of interest and is directly proportional to the flux of the object. $N_{sky}$ is the rate at which electrons are created by sky photons, $N_{dark}$ is the rate at which electrons are created by the dark current, $N_{read}$ is the read noise, and $n_{pix}$ is the number of pixels used to sum up the total flux from the object of interest.\n",
    "\n",
    "For an object that is photon limited (i.e., it is much brighter than the background), the $N_{star}$ term will dominate, resulting in $SNR\\propto\\sqrt{N_{star}t}$. If N$_{star}$ is constant then the SNR scales with the square root of the observing time. If the observing time is constant then the SNR scales with the square root of the photon flux, which is proportional to the flux of the object.\n",
    "\n",
    "Some observatories offer exposure time calculators that allow you to input a flux and an instrument configuration, and they will estimate the required exposure time (or conversely, for a given exposure time, instrument configuration and target flux they will calculate the resulting SNR). When this isn't available you will often see statements to the effect of 'Our instrument can reach SNR=5 on a Nth magnitude object in an hour.' This information can then be used to scale to your particular objects.\n",
    "\n",
    "> **Q:** Triplespec, a Near-Infrared spectrograph on the Apache Point Observatory 3.5m, can reach SNR=5 for a K=14 object in an hour. For the list of objects below, estimate the SNR that can be reached in an hour, assuming a photon-limited case. \n",
    "\n",
    "| Star | K mag |\n",
    "|:----:|:-----:|\n",
    "| A    | 8.5   |\n",
    "| B    | 12.0  |\n",
    "| C    | 16.0  |\n",
    "| D    | 5.0   |\n",
    "\n",
    "> **Q:** For the same list of objects, estimate the exposure time needed to reach SNR=10. "
   ]
  },
  {
   "cell_type": "code",
   "execution_count": 1,
   "metadata": {},
   "outputs": [
    {
     "name": "stdout",
     "output_type": "stream",
     "text": [
      "SNR: 62.95\n",
      "SNR: 12.56\n",
      "SNR: 1.99\n",
      "SNR: 315.48\n"
     ]
    }
   ],
   "source": [
    "#Calculate SNR after an hour\n",
    " #Your code here\n",
    "import numpy as np\n",
    "kmag = np.array([8.5,12.0,16.0,5.0])\n",
    "snr = 5*np.sqrt(10**((14-kmag)/2.5))\n",
    "for s in snr:\n",
    "    print('SNR: {:0.2f}'.format(s))"
   ]
  },
  {
   "cell_type": "code",
   "execution_count": 2,
   "metadata": {},
   "outputs": [
    {
     "name": "stdout",
     "output_type": "stream",
     "text": [
      "Exposure Time: 1.514 minutes\n",
      "Exposure Time: 38.037 minutes\n",
      "Exposure Time: 1514.298 minutes\n",
      "Exposure Time: 0.060 minutes\n"
     ]
    }
   ],
   "source": [
    "#Calculate exposure time needed to reach SNR=10\n",
    " #Your code here\n",
    "time = 60.*(10./5)**2.*10**((kmag-14)/2.5)\n",
    "for t in time:\n",
    "    print('Exposure Time: {:0.3f} minutes'.format(t))"
   ]
  },
  {
   "cell_type": "markdown",
   "metadata": {},
   "source": [
    "Many large observatories have online utilities for calculating the exposure time for an object of a given brightness and required SNR. These tools account for more detail regarding the sky brightness, detector efficiency, extended vs point sources, etc. Some examples include:\n",
    "\n",
    "- ALMA [https://almascience.nrao.edu/proposing/sensitivity-calculator](https://almascience.nrao.edu/proposing/sensitivity-calculator)\n",
    "- ESO [https://www.eso.org/observing/etc/](https://www.eso.org/observing/etc/)\n",
    "- JWST [http://www.stsci.edu/jwst/science-planning/proposal-planning-toolbox/exposure-time-calculator](http://www.stsci.edu/jwst/science-planning/proposal-planning-toolbox/exposure-time-calculator)\n",
    "- Las Cumbres [https://exposure-time-calculator.lco.global](https://exposure-time-calculator.lco.global)\n",
    "- Subaru [https://www.naoj.org/cgi-bin/img_etc.cgi](https://www.naoj.org/cgi-bin/img_etc.cgi)"
   ]
  },
  {
   "cell_type": "markdown",
   "metadata": {},
   "source": [
    "### Determining when an object is visible (TAPIR)\n",
    "\n",
    "There are multiple ways in which to determine when an object is visible over the course of a year and over the course of a night. If your goal is a quick observation for e.g. public outreach, then planetarium software is the best option ([stellarium](https://stellarium.org) is a free software package, with a [web-based version](https://stellarium-web.org) as well. [Cartes du Ciel](https://www.ap-i.net/skychart/en/start) is another free option.).\n",
    "\n",
    "For an observing run you might need more information. This section describes how to use `TAPIR` [https://astro.swarthmore.edu/~jensen/tapir.html](https://astro.swarthmore.edu/~jensen/tapir.html), an online utility built by Prof. Eric Jensen at Swarthmore College to estimate the airmass and download finding charts for an object of interest. The end of this lab describes how to use `astroplan`, a python package with similar, but more detailed, functionality."
   ]
  },
  {
   "cell_type": "markdown",
   "metadata": {},
   "source": [
    "One measure of the visibility of an object is its airmass. The **airmass** is a measure of how much atmosphere we have to look through in order to seen an object, which is related to how high the objects is in the sky (its **altitude**). \n",
    "\n",
    "$airmass = \\sec z$\n",
    "\n",
    "where $z$ is the zenith angle (the angular distance from the zenith). An object directly overhead has an airmass of 1, with airmass values increasing toward the horizon. In general, you want to minimize the airmass.\n",
    "\n",
    "> **Q:** At our rooftop observatory we cannot observe objects below an altitude of 20$^{\\circ}$. What is the maximum airmass of an observable object at our rooftop observatory? (Note: the numpy trigonemtric functions take angles in radians as input. To convert from degrees to radians use the numpy.radians function).\n"
   ]
  },
  {
   "cell_type": "code",
   "execution_count": 3,
   "metadata": {},
   "outputs": [
    {
     "name": "stdout",
     "output_type": "stream",
     "text": [
      "Maximum airmass: 2.92\n"
     ]
    }
   ],
   "source": [
    "# Calculate airmass here\n",
    "  # Note that numpy does not have a secant function, but you can use the definition of secant. \n",
    "max_airmass = 1/np.cos(np.radians(70))\n",
    "print('Maximum airmass: {:0.2f}'.format(max_airmass))"
   ]
  },
  {
   "cell_type": "markdown",
   "metadata": {},
   "source": [
    "The airmass depends on the location of the object, the location of the observatory, and the time at which it is observed.\n",
    "\n",
    "To use TAPIR to look at the airmass of an object, go to the airmass plotting page [https://astro.swarthmore.edu/airmass.cgi](https://astro.swarthmore.edu/airmass.cgi)\n",
    "\n",
    "From the drop-down menu, select Williams College Observatory. You can adjust the time zone, and well as the date, but for now you can leave it as the observatory's local time and today. \n",
    "\n",
    "Enter Betelgeuse under the Target name and click submit. You will then see a plot showing the airmass/elevation as a function of time. Moving the cursor around the plot to see the exact values along the airmass curve.\n",
    "\n",
    "> **Q:** What is minimum airmass for Betelgeuse tonight? When does it reach its highest point?\n",
    "\n",
    "**A: The minimum airmass is 1.22, at 8:05pm.**\n",
    "\n",
    "\n",
    "> **Q:** Amy Steele '08 is looking for comets around the white dwarf WD1145+017. This object has a position of RA=11:48:33.6 Dec=+01:28:29. Is it observable from our rooftop observatory tonight? If so, how long is it observable? (refer to your calculation of the maximum airmass above)\n",
    "\n",
    "**A: Yes, it is observable from 10:05pm until 6:30am, although the end will be cutoff by sunrise.**"
   ]
  },
  {
   "cell_type": "markdown",
   "metadata": {},
   "source": [
    "Next we will use TAPIR to print a finding chart for our object. This is useful for making sure you are pointed at the right object. Note that TAPIR draws from DSS, which is convenient if you are interested in optical images, but less useful if you are working at other wavelengths.\n",
    "\n",
    "To generate a finding chart, go to the finding chart page [https://astro.swarthmore.edu/finding_charts.cgi](https://astro.swarthmore.edu/finding_charts.cgi). \n",
    "\n",
    "> **Q:** Produce a finder chart for WD1145+017. Include the size of the detector at our rooftop observatory (roughly 1/3rd of a degree on each side). You may need to approve downloads from this website. Copy this finding chart into the Place_Your_Results_Here folder, with your name included in the filename. "
   ]
  },
  {
   "cell_type": "markdown",
   "metadata": {},
   "source": [
    "### Examining Data\n",
    "\n",
    "So now you have set up your observing plan, and have progressed to taking data. The next step is to examine the data to see if it meets your SNR standards, or if you need to adjust your observing plan.\n",
    "\n",
    "One useful program for doing this is ds9 (named after the Star Trek show). ds9 is a stand-alone application ([http://ds9.si.edu/site/Home.html](http://ds9.si.edu/site/Home.html)), that can be accessed from the applications folder on this machine.\n",
    "\n",
    "> Under the Applications folder, open SAOImageds9. \n",
    "\n",
    "The standard ds9 window will have a large frame for displaying the image (empty for now). Directly above this will be two rows of buttons that give access to various tasks (mirroring tasks available in the drop-down menus). The top panel shows information about the object including the filename,the object type/name (taken from the header of the fits file) and pixel value and position of your cursor. In the upper right is a postage stamp of the entire image, with a blue box marking the region displayed in the large panel. To the right is a zoomed-in image of the current location of the cursor. Both of these are empty because we haven't loaded an image. \n",
    "\n",
    "\n",
    "> Under File->Open, open the image `NGC6946.fits`\n",
    "\n",
    "When you first load this image you probably won't see anything. This is because the color scale is based on the max and min brightness of the image. The max brightness is so much brighter than the typical brightness that most things appear black. \n",
    "\n",
    "> Click the `scale` button. The bottom row of buttons will be updated. Click the `zscale` button. This should make the galaxy visible. \n",
    "\n",
    "> Click the `zoom` button. Click the `zoom fit` button. This will fit the entire image in the bottom panel.\n",
    "\n",
    "\n",
    "As you move the cursor around the image, the top panel will be updated with the current X and Y position of your cursor, as well as the pixel value at that location. \n",
    "\n",
    "> **Q:** Our detector saturates at a count of 65000 ADU. Are any of the stars close to being saturated? If so, list their location below. \n",
    "\n",
    "**A: (73, 718), (510,829), (668,173), (617, 792), (156, 167)**\n",
    "\n",
    "You can view the header, which contains detailed information on the observations. \n",
    "\n",
    "> Go to File -> Header. This will open a new window with the header information. \n",
    "> **Q:** What was the exposure time? What was the airmass of this object when it was observed? \n",
    "\n",
    "**A: Exposure time of 60 seconds, and an airmass of 1.49.**\n",
    "\n",
    "> **Q:** Open `NGC7331.fits` image. What was the expoure time and airmass for this object?\n",
    "\n",
    "**A: Exposure time of 40 seconds, and an airmass of 1.45.**"
   ]
  },
  {
   "cell_type": "markdown",
   "metadata": {},
   "source": [
    "### Full Observing Plan\n",
    "\n",
    "The file observing_targets.txt contain a list of TESS Targets of Interest (plus WD1154+017), along with their coordinates, their transit depth, their transit duration, and an estimate of their R band magnitude. *Your goal is to select out the ten best targets to observe at our Rooftop Observatory.*\n",
    "\n",
    "- In order to observe the planetary transit, you need to reach a noise level that is at least N times smaller than the transit depth, which in turn is related to the required SNR. For example, if N=5 then a transit depth of 0.5 would require a noise level of 0.1, which corresponds to a SNR of 10(=1/0.1), while a transit depth of 0.01 would require a noise level of 0.002 and a SNR of 500(=1/0.002). Assume that our camera can reach SNR=500 in 60 seconds on an R=10 object. \n",
    "\n",
    "- Detecting the transit also means that the exposure time is less than the transit duration (otherwise the transit will get washed out). \n",
    "\n",
    "- Lastly, the object needs to be observable from Williamstown. You can use TAPIR to determine which objects are observable from Williamston, and the time of year when they are observable. When determining when to observe an object in the optical, it is best to pick a time when contamination from the moon is weakest; new moon is better than full moon. The phase of the moon can be determined using planetarium software like [Stellarium](https://stellarium-web.org) or Cartes du Ciel. \n",
    "\n",
    "\n",
    "> **Q:** Write a function that can read in the data from `observing_targets.txt` and calculate the exposure time needed to reach a given signal to noise, and also calculate the ratio between the exposure time and the eclipse diration. The function should take a file name as an input, and should have an optional input that is the N value discussed above (the default value of this parameter should be 5). Use this function to narrow down the list of targets, and then use TAPIR to determine which ones are visible from Williamstown. From this list, select out the ten best targets, and download both an airmass plot and finder chart for each of these targets. Enter the targets (their name, coordinates, exposure times, and a night to observe them) in the table below. When choosing a night to observe each object, make sure to avoid a bright moon. Create a folder within the Place_Your_Results_Here/Lab2_ObsPlanning folder on the server that has the last names of you and your partner. Copy this notebook into that folder, along with your airmass plots and finder charts. \n",
    "\n",
    "\n",
    "*These answers are not unique, but illustrate one possible set of objects*\n",
    "\n",
    "| Target Number | RA                   |      Dec             |    Exposure time     |When to observe       |\n",
    "|:-------------:|:--------------------:|:--------------------:|:--------------------:|:--------------------:|\n",
    "|1 (WD1145+017) |**11 48 33.6**|**+01 28 29**|**721 sec**|**Feb, 2020**|\n",
    "|2 (573.01)     |**09 29 23.26**|**-14 30 42.12**|**49 sec**|**Feb, 2020**|\n",
    "|3 (1433.01)    |**20 22 09.18**|**+36 03 53.22**|**98 sec**|**June, 2020**|\n",
    "|4 (1632.01)    |**02 48 37.25**|**+62 11 21.34**|**138 sec**|**Nov, 2020**|\n",
    "|5 (1635.01)    |**16 26 29.78**|**+66 08 39.21**|**181 sec**|**May, 2020**|\n",
    "|6 (529.01)     |**06 41 01.43**|**+16 35 19.66**|**1172 sec**|**Dec, 2020**|\n",
    "|7 (535.01)     |**06 43 03.76**|**-01 17 47.2**|**416 sec**|**Dec, 2020**|\n",
    "|8 (464.01)     |**02 08 40.75**|**-09 02 45.76**|**567 sec**|**Oct, 2020**|\n",
    "|9 (1567.01)    |**03 21 23.01**|**+52 41 31.6**|**10 sec**|**Oct, 2020**|\n",
    "|10 (693.01)    |**08 17 05.98**|**+08 14 55.75**|**24 sec**|**Feb, 2020**|\n"
   ]
  },
  {
   "cell_type": "code",
   "execution_count": 15,
   "metadata": {},
   "outputs": [],
   "source": [
    "# Enter your code here\n",
    "import numpy as np\n",
    "\n",
    "def help_with_observing(file,N=5):\n",
    "    '''This code reads in eclipse depth, eclipse duration, and R band magntiude from a file\n",
    "    and then determines the necessary exposure time. If the exposure time is longer than the \n",
    "    eclipse depth than a warning is given.\n",
    "    \n",
    "    file: The name of the file containing information on the targets\n",
    "    \n",
    "    N (default = 5): The significance of the transit detection. For example, N=3 is used if you\n",
    "    want a 3 sigma detection of the transit, while N=10 would give a 10 sigma detection.\n",
    "    \n",
    "    Example:\n",
    "    help_with_observing('observer_targets.txt',N=4)'''\n",
    "    \n",
    "    #Read in the data\n",
    "    data = np.genfromtxt(file,comments='#',dtype='str')\n",
    "    name = data[:,0]\n",
    "    depth = np.array([float(x) for x in data[:,8]]) #assume depth is in the ninth column\n",
    "    duration = np.array([float(x) for x in data[:,7]]) #assume transit duration is in the eigth column\n",
    "    Rmag = np.array([float(x) for x in data[:,9]]) #assume R magnitude is in the tenth column\n",
    "    \n",
    "    snr = (depth/N)**(-1.) #Target SNR for each object\n",
    "    \n",
    "    exp_time = 60.*(snr/500.)**(2.)*10**((Rmag-10.)/2.5)\n",
    "    \n",
    "    print('Name, Exposure Time, (Exposure Time)/(Transit Duration), SNR:')\n",
    "    for i in range(len(exp_time)):\n",
    "        print('{} {:0.2f} sec, {:0.4f}, {:0.1f}'.format(name[i],exp_time[i],exp_time[i]/(duration[i]*60.*60.),snr[i]))"
   ]
  },
  {
   "cell_type": "code",
   "execution_count": 16,
   "metadata": {
    "scrolled": false
   },
   "outputs": [
    {
     "name": "stdout",
     "output_type": "stream",
     "text": [
      "Name, Exposure Time, (Exposure Time)/(Transit Duration), SNR:\n",
      "WD1145+017 721.36 sec, 0.6072, 50.0\n",
      "734.01 147.92 sec, 0.0367, 14.3\n",
      "639.01 222.64 sec, 0.0219, 27.8\n",
      "573.01 48.52 sec, 0.0079, 35.7\n",
      "519.01 513.17 sec, 0.1150, 38.5\n",
      "1433.01 97.78 sec, 0.0157, 38.5\n",
      "1632.01 137.97 sec, 0.0077, 41.7\n",
      "1635.01 181.20 sec, 0.0184, 50.0\n",
      "316.01 54.15 sec, 0.0059, 52.1\n",
      "529.01 1172.61 sec, 0.0657, 58.1\n",
      "472.01 138.04 sec, 0.0352, 60.2\n",
      "224.01 25.42 sec, 0.0038, 64.9\n",
      "507.01 680.98 sec, 0.1576, 73.5\n",
      "365.01 89.77 sec, 0.0074, 73.5\n",
      "263.01 9242.54 sec, 3.0204, 78.1\n",
      "535.01 416.36 sec, 0.0396, 79.4\n",
      "850.01 17.24 sec, 0.0015, 84.7\n",
      "609.01 5.09 sec, 0.0009, 87.7\n",
      "450.01 508.63 sec, 0.0689, 87.7\n",
      "730.01 949.35 sec, 0.1188, 90.9\n",
      "464.01 566.71 sec, 0.1675, 92.6\n",
      "290.01 93.24 sec, 0.0058, 94.3\n",
      "749.01 837.55 sec, 0.1846, 98.0\n",
      "984.01 6.35 sec, 0.0003, 98.0\n",
      "1567.01 9.55 sec, 0.0006, 100.0\n",
      "860.01 38.04 sec, 0.0045, 100.0\n",
      "693.01 24.00 sec, 0.0017, 100.0\n",
      "340.01 86.23 sec, 0.0037, 104.2\n",
      "207.01 187.91 sec, 0.0126, 106.4\n",
      "1421.01 13.00 sec, 0.0010, 106.4\n",
      "308.01 56.46 sec, 0.0070, 111.1\n",
      "1270.01 39.06 sec, 0.0033, 111.1\n",
      "352.01 17.05 sec, 0.0017, 111.1\n",
      "839.01 372.60 sec, 0.0351, 113.6\n",
      "1070.01 3558.07 sec, 0.3032, 116.3\n",
      "946.01 24.62 sec, 0.0032, 116.3\n",
      "643.01 1867.30 sec, 0.1294, 116.3\n",
      "762.01 1291.86 sec, 0.2619, 116.3\n",
      "384.01 246.16 sec, 0.0146, 116.3\n",
      "319.01 195.73 sec, 0.0561, 119.0\n",
      "372.01 64.81 sec, 0.0085, 119.0\n",
      "287.01 93.68 sec, 0.0128, 119.0\n",
      "307.01 178.51 sec, 0.0204, 119.0\n",
      "636.01 5390.79 sec, 0.8138, 119.0\n",
      "346.01 118.19 sec, 0.0142, 122.0\n",
      "337.01 68.55 sec, 0.0060, 128.2\n",
      "311.01 328.11 sec, 0.0772, 128.2\n",
      "448.01 315.20 sec, 0.1510, 131.6\n",
      "234.01 2765.34 sec, 0.5190, 135.1\n"
     ]
    }
   ],
   "source": [
    "#Run the function\n",
    "help_with_observing('observing_targets.txt')"
   ]
  },
  {
   "cell_type": "markdown",
   "metadata": {},
   "source": [
    "### **STOP HERE**"
   ]
  },
  {
   "cell_type": "markdown",
   "metadata": {},
   "source": [
    "---\n",
    "---\n",
    "---\n",
    "### Determine when an object is visible (astroplan)\n",
    "\n",
    "The `astroplan` python package, an affiliate package of `astropy` provides the ability to perform detailed calculations about the visibility of an object. This includes not only the airmass, but also the location on the sky, the rise and set time and the moon phase. It also includes the ability to generate a detailed observing plan for a list of targets based on a given set of criteria, but that is beyond the scope of what we are doing here. More information, including some tutorials, can be found on their website [https://astroplan.readthedocs.io/en/latest/](https://astroplan.readthedocs.io/en/latest/)"
   ]
  },
  {
   "cell_type": "code",
   "execution_count": null,
   "metadata": {},
   "outputs": [],
   "source": [
    "# Load the necessary packages\n",
    "from astropy.coordinates import SkyCoord\n",
    "from astroplan import FixedTarget\n",
    "import astropy.units as u\n",
    "from astropy.coordinates import EarthLocation\n",
    "from pytz import timezone\n",
    "from astroplan import Observer\n",
    "from astropy.time import Time\n",
    "from astroplan.plots import plot_airmass, plot_sky\n",
    "import matplotlib.pyplot as plt\n",
    "%matplotlib inline"
   ]
  },
  {
   "cell_type": "code",
   "execution_count": null,
   "metadata": {},
   "outputs": [],
   "source": [
    "# First we need to set up Hopkins Oobservatory as a location\n",
    "longitude = '-73d12m42s'\n",
    "latitude = '42d42m42s'\n",
    "elevation = 100*u.m\n",
    "location = EarthLocation.from_geodetic(longitude,latitude,elevation)\n",
    "\n",
    "observer_hopkins = Observer(name = 'Hopkins Observatory',\n",
    "                   location = location,\n",
    "                   timezone = timezone('US/Eastern'),\n",
    "                   description='Hopkins Observatory in Williamstown, MA')\n",
    "\n",
    "# We will also load in the Apache Point Observatory, which it already knows\n",
    "observer_apo = Observer.at_site('apo') #At Apache Point Observatory"
   ]
  },
  {
   "cell_type": "markdown",
   "metadata": {},
   "source": [
    "`astroplan` includes functionality for calculating the airmass over the course of a day, similar to TAPIR"
   ]
  },
  {
   "cell_type": "code",
   "execution_count": null,
   "metadata": {},
   "outputs": [],
   "source": [
    "# Plot the airmass of an object tonight\n",
    "\n",
    "#Set the observing time. Note that this is UTC, not local time\n",
    "observe_time = Time('2020-01-17 23:30:00') #This is UTC\n",
    "\n",
    "#Pick an object\n",
    "altair = FixedTarget.from_name('Altair')\n",
    "\n",
    "#Plot the airmass as a function of time. If observe_time is a single time, then it will plot\n",
    "# the full day around this time.\n",
    "# Include flags to mark the altitude, and to include shadings to indicate day/night\n",
    "# (This will take awhile)\n",
    "plot_airmass(altair,observer_hopkins,observe_time,altitude_yaxis=True,brightness_shading=True) "
   ]
  },
  {
   "cell_type": "markdown",
   "metadata": {},
   "source": [
    "On January 17th, at our Hopkins Observatory Altair, reaches a minumim airmass of about 1.2 (an altitude of 60 degrees) at UTC~17:00. You can look up the local time for this UTC, but based on the shading of the plot, you might guess that this is during the daytime (and you would be correct). Altair is part of the Summer Triangle, and is not a great object to observe in the winter.\n"
   ]
  },
  {
   "cell_type": "markdown",
   "metadata": {},
   "source": [
    "Let us try WD1145+017."
   ]
  },
  {
   "cell_type": "code",
   "execution_count": null,
   "metadata": {},
   "outputs": [],
   "source": [
    "coordinates = SkyCoord('11h48m33.6s','+01d28m29s',frame='icrs')\n",
    "wd1145 = FixedTarget(name='wd1145',coord=coordinates)\n",
    "\n",
    "plot_airmass(wd1145,observer_hopkins,observe_time,altitude_yaxis=True,brightness_shading=True)"
   ]
  },
  {
   "cell_type": "markdown",
   "metadata": {},
   "source": [
    "This is more promising.  \n",
    "\n",
    "Next lets look at where in the sky the object is located. This is useful if e.g., we know that clouds are in the east and we want to pick a target that is not in the east"
   ]
  },
  {
   "cell_type": "code",
   "execution_count": null,
   "metadata": {},
   "outputs": [],
   "source": [
    "# set the time to roughly when the airmass is the lowest\n",
    "observe_time = Time('2020-01-17 09:00:00')\n",
    "\n",
    "\n",
    "plot_sky(wd1145,observer_hopkins,observe_time)"
   ]
  },
  {
   "cell_type": "markdown",
   "metadata": {},
   "source": [
    "At the time of minimum airmass, the object is directly south (not surprising). \n",
    "\n",
    "Let us check to see where this object is in the sky as seen from APO when it is transiting as seen from Hopkins Observatory."
   ]
  },
  {
   "cell_type": "code",
   "execution_count": null,
   "metadata": {},
   "outputs": [],
   "source": [
    "plot_sky(wd1145,observer_apo,observe_time)"
   ]
  },
  {
   "cell_type": "markdown",
   "metadata": {},
   "source": [
    "Astroplan has some other useful functions.\n",
    "\n",
    "You can determine when an object rises. Note that at our Hopkins Observatory objects need to have an altitude above 20 degrees to be observable, and not just above the horizon. We can include this additional constraint within astroplan."
   ]
  },
  {
   "cell_type": "code",
   "execution_count": null,
   "metadata": {},
   "outputs": [],
   "source": [
    "rise_time_wd1145 = observer_hopkins.target_rise_time(observe_time,wd1145,horizon=20*u.deg,n_grid_points=10).iso\n",
    "set_time_wd1145 = observer_hopkins.target_set_time(observe_time,wd1145,horizon=20*u.deg,n_grid_points=10).iso\n",
    "peak_time_wd1145 = observer_hopkins.target_meridian_transit_time(observe_time,wd1145,n_grid_points=10).iso\n",
    "\n",
    "print('Rise time: {}'.format(rise_time_wd1145))\n",
    "print('Set time: {}'.format(set_time_wd1145))\n",
    "print('Time of Meridian transit: {}'.format(peak_time_wd1145))"
   ]
  },
  {
   "cell_type": "markdown",
   "metadata": {},
   "source": [
    "Next we might want to know if the Moon will be a problem during our observations. This will depend on the phase of the Moon, as well as when the Moon rises or sets"
   ]
  },
  {
   "cell_type": "code",
   "execution_count": null,
   "metadata": {},
   "outputs": [],
   "source": [
    "print(observer_hopkins.moon_illumination(observe_time))\n",
    "print(observer_hopkins.moon_rise_time(observe_time,which='previous').iso)\n",
    "print(observer_hopkins.moon_set_time(observe_time,which='next').iso)"
   ]
  },
  {
   "cell_type": "markdown",
   "metadata": {},
   "source": [
    "We might also want to know when the Sun sets and rises (as well as astronomical twilight), so we know the earliest and latest possible times to observe an object."
   ]
  },
  {
   "cell_type": "code",
   "execution_count": null,
   "metadata": {},
   "outputs": [],
   "source": [
    "print(observer_hopkins.sun_set_time(observe_time,n_grid_points=10,which='previous').iso)\n",
    "print(observer_hopkins.sun_rise_time(observe_time,n_grid_points=10,which='next').iso)\n",
    "\n",
    "print(observer_hopkins.twilight_evening_astronomical(observe_time,n_grid_points=10,which='previous').iso)\n",
    "print(observer_hopkins.twilight_morning_astronomical(observe_time,n_grid_points=10,which='next').iso)"
   ]
  }
 ],
 "metadata": {
  "kernelspec": {
   "display_name": "Python 3",
   "language": "python",
   "name": "python3"
  },
  "language_info": {
   "codemirror_mode": {
    "name": "ipython",
    "version": 3
   },
   "file_extension": ".py",
   "mimetype": "text/x-python",
   "name": "python",
   "nbconvert_exporter": "python",
   "pygments_lexer": "ipython3",
   "version": "3.7.3"
  }
 },
 "nbformat": 4,
 "nbformat_minor": 2
}
