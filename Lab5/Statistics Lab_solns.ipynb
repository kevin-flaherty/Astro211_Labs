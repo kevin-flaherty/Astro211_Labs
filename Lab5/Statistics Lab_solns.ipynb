{
 "cells": [
  {
   "cell_type": "markdown",
   "metadata": {},
   "source": [
    "# Statistics\n",
    "---\n",
    "\n",
    "### Names: Solutions\n",
    "\n",
    "This lab explores probability distributions, how they can be propogated through an equation, and how probabilities can be combined to estimate the parameters of a model. "
   ]
  },
  {
   "cell_type": "markdown",
   "metadata": {},
   "source": [
    "---\n",
    "\n",
    "\n",
    "#### New Code:\n",
    "\n",
    "This lab will introduce a number of different pieces of code, including code that can:\n",
    "\n",
    "\n",
    "- Draw random numbers from a Poisson distribution\n",
    "- Draw random numbers from a Gaussian distribution\n",
    "- Calculate the probability density of a Poisson distribution at a given value\n",
    "- Calculate the probability that a value drawn from a given Poisson distribution is greater than X\n",
    "- Calculate the value X such that the probability of drawing a smaller value is P for a Poisson distribution\n",
    "- Calculate the probability density of a Gaussian distribution at a given value\n",
    "- Calculate the probability that a value drawn from a given Gaussian distribution is greater than X\n",
    "- Calculate the value X such that the probability of drawing a smaller value is P for a Gaussian distribution\n",
    "\n",
    "---"
   ]
  },
  {
   "cell_type": "markdown",
   "metadata": {},
   "source": [
    "### Probability distributions\n",
    "\n",
    "If we repeat an experiement many times (e.g. take many images of a star and measure its flux in each image) we will not obtain the same result every time. Instead we will obtain a range of different values, and the relative probability of each of these values is given by a probability distribution. In class we discussed the Poisson distribution (used for counting statistics) and the Gaussian distribution (used for most everything else). Python has built-in functions that allows us to draw values from a Poisson or Gaussian distribution. This can be useful if we want to model an experiment, or estimate the relative probability of obtaining different values. \n"
   ]
  },
  {
   "cell_type": "code",
   "execution_count": 1,
   "metadata": {},
   "outputs": [],
   "source": [
    "# Import useful packages\n",
    "import numpy as np\n",
    "import matplotlib.pyplot as plt"
   ]
  },
  {
   "cell_type": "markdown",
   "metadata": {},
   "source": [
    "Lets first look at a Poisson distribution. Remember that the Poisson distribution is defined for integer values and is given by:\n",
    "\n",
    "$P(x,\\mu ) = \\frac{\\mu^x}{x!}\\exp^{-\\mu}$\n",
    "\n",
    "where $\\mu$ is the average value of the distribution. Poisson distributions apply to counting statistics, e.g. counting the number of photons that arrive at our detector.\n",
    "\n",
    "Within python, we can draw a random number from a Poisson distribution. If we do this a large number of times, and plot a histogram of the different values drawn from this distribution, we can visualize the Poisson distribution\n"
   ]
  },
  {
   "cell_type": "code",
   "execution_count": 2,
   "metadata": {},
   "outputs": [
    {
     "data": {
      "text/plain": [
       "Text(0.5, 1.0, 'Poisson Distribution\\n small mean')"
      ]
     },
     "execution_count": 2,
     "metadata": {},
     "output_type": "execute_result"
    },
    {
     "data": {
      "image/png": "[encoded data removed]",
      "text/plain": [
       "<Figure size 432x288 with 1 Axes>"
      ]
     },
     "metadata": {
      "needs_background": "light"
     },
     "output_type": "display_data"
    }
   ],
   "source": [
    "# Set the average value\n",
    "mu = 2\n",
    "\n",
    "# Draw 1000 random numbers from a Poisson distribution\n",
    "poiss_data = np.random.poisson(mu,size=1000)\n",
    "\n",
    "# Plot a histogram of the random numbers\n",
    "plt.hist(poiss_data,30,histtype='step')\n",
    "plt.title('Poisson Distribution\\n small mean')"
   ]
  },
  {
   "cell_type": "markdown",
   "metadata": {},
   "source": [
    "Next, lets look at a Gaussian distribution. The formula for a Gaussian distribution is:\n",
    "\n",
    "$P(x, \\mu, \\sigma) = \\frac{1}{\\sigma\\sqrt{2\\pi}}\\exp^{-\\frac{1}{2}\\left(\\frac{x-\\mu}{\\sigma}\\right)^2} $\n",
    "\n",
    "where $\\mu$ is the mean of the distribution and $\\sigma$ is the standard deviation. \n",
    "\n",
    "As with the Poisson distribution, we can draw random numbers from a Gaussian distribution. If we draw enough random numbers from this distribution, and plot a histogram of the result, we can visualize the Gaussian distribution."
   ]
  },
  {
   "cell_type": "code",
   "execution_count": 3,
   "metadata": {},
   "outputs": [
    {
     "data": {
      "text/plain": [
       "Text(0.5, 1.0, 'Gaussian distribution')"
      ]
     },
     "execution_count": 3,
     "metadata": {},
     "output_type": "execute_result"
    },
    {
     "data": {
      "image/png": "[encoded data removed]",
      "text/plain": [
       "<Figure size 432x288 with 1 Axes>"
      ]
     },
     "metadata": {
      "needs_background": "light"
     },
     "output_type": "display_data"
    }
   ],
   "source": [
    "# Gaussian distribution\n",
    "mean, std = 500,40\n",
    "\n",
    "#Draw 1000 random numbers from a Gaussian distribution\n",
    "gauss_data = np.random.normal(mean,std,size=1000)\n",
    "\n",
    "plt.hist(gauss_data,30,histtype='step')\n",
    "plt.title('Gaussian distribution')"
   ]
  },
  {
   "cell_type": "markdown",
   "metadata": {},
   "source": [
    "Lets go through an exercise where we use the ability to generate random numbers.\n",
    "\n",
    "The distance to a nearby object can be derived from the parallax by the following formula:\n",
    "\n",
    "$d = 1/p$\n",
    "\n",
    "where $d$ is the distance in units of parsecs and $p$ is the parallactic angle, in units of arc-seconds. GAIA is a european space telescope that has measured the parallaxes for over one billion stars. They discourage deriving the distance directly from objects with an error on the parallax of larger than 20%, but instead they suggest working directly with the parallax. Why is this?\n",
    "\n",
    "Lets consider the star 55 Cnc. According to GAIA, it has p=0.079427$\\pm$0.000077 arc-seconds.\n",
    "\n",
    "> **Q:** Using the formula for distance, and what you know about error propogation, calculate the distance to 55 Cnc, and its uncertainty.\n",
    "\n",
    "**d=12.59 $\\pm$ 0.01 pc**\n",
    "\n",
    "We can estimate the answer to the above question using random numbers. We first draw many random numbers from a Gaussian distribution with a mean and standard deviation given the parallax measurement and its uncertainty. We then apply the distance formula to these values, and look at the resulting distribution.\n",
    "\n",
    "> **Q:** The code below performs this operation, but is missing important pieces, and contains some syntax errors. Fill in the missing pieces and fix the errors"
   ]
  },
  {
   "cell_type": "code",
   "execution_count": 25,
   "metadata": {},
   "outputs": [
    {
     "name": "stdout",
     "output_type": "stream",
     "text": [
      "Distance to 55 Cnc 12.590+-0.012\n"
     ]
    },
    {
     "data": {
      "image/png": "[encoded data removed]",
      "text/plain": [
       "<Figure size 432x288 with 1 Axes>"
      ]
     },
     "metadata": {
      "needs_background": "light"
     },
     "output_type": "display_data"
    }
   ],
   "source": [
    "p_mean = 0.079427\n",
    "p_std = 0.000077\n",
    "\n",
    "p_gauss = np.random.normal(p_mean,p_std,size=1000)#Insert code to draw 1000 random numbers from a Gaussian distribution with mean of 0.079427 and standard deviation of 0.000077\n",
    "d_gauss = 1/p_gauss\n",
    "\n",
    "#Plot a histogram of the distances\n",
    "plt.hist(d_gauss,30,histtype='step') #<- Missing ) here\n",
    "plt.xlabel('D (pc)',fontsize=14)\n",
    "plt.title('Distance to 55 Cnc',fontsize=14)\n",
    "\n",
    "#Calculate the mean and standard deviation of the distances\n",
    "mean_d = np.mean(d_gauss) #<- Should be np.mean not mean\n",
    "std_d = np.std(d_gauss) #<- The variable in the parenthesese should be d_gauss not mean_d\n",
    "print('Distance to 55 Cnc {:0.3f}+-{:0.3f}'.format(mean_d,std_d))"
   ]
  },
  {
   "cell_type": "markdown",
   "metadata": {},
   "source": [
    "> **Q:** How does the mean and standard deviation estimated in the code block above compare to your direct estimate from the formula and propogation of errors?\n",
    "\n",
    "**They are the same!**\n",
    "\n",
    "Now lets consider what would happen if the uncertainty was larger. \n",
    "\n",
    "> **Q:** Copy the code block from above and increase the uncertainty on the parallax measurement to 0.016 arc-seconds (=20% of the parallax measurement). Using the distance formula, with the simple propogation of error prescription, would predict that d=12.6$\\pm$2.5pc. Does this match the mean and standard deviation of the distribution of distance values? Does the distribution of distance values look like a Gaussian?\n",
    "\n",
    "**The error propogation result does not match the result below. The distribution of distance values does not look like a Gaussian, but instead has a tail towards large distances. **"
   ]
  },
  {
   "cell_type": "code",
   "execution_count": 26,
   "metadata": {},
   "outputs": [
    {
     "name": "stdout",
     "output_type": "stream",
     "text": [
      "Distance to 55 Cnc 13.273+-3.245\n"
     ]
    },
    {
     "data": {
      "image/png": "[encoded data removed]",
      "text/plain": [
       "<Figure size 432x288 with 1 Axes>"
      ]
     },
     "metadata": {
      "needs_background": "light"
     },
     "output_type": "display_data"
    }
   ],
   "source": [
    "p_mean = 0.079427\n",
    "p_std = 0.016\n",
    "\n",
    "p_gauss = np.random.normal(p_mean,p_std,size=1000)#Insert code to draw 1000 random numbers from a Gaussian distribution with mean of 0.079427 and standard deviation of 0.000077\n",
    "d_gauss = 1/p_gauss\n",
    "\n",
    "#Plot a histogram of the distances\n",
    "plt.hist(d_gauss,30,histtype='step') #<- Missing ) here\n",
    "plt.xlabel('D (pc)',fontsize=14)\n",
    "plt.title('Distance to 55 Cnc',fontsize=14)\n",
    "\n",
    "#Calculate the mean and standard deviation of the distances\n",
    "mean_d = np.mean(d_gauss) #<- Should be np.mean not mean\n",
    "std_d = np.std(d_gauss) #<- The variable in the parenthesese should be d_gauss not mean_d\n",
    "print('Distance to 55 Cnc {:0.3f}+-{:0.3f}'.format(mean_d,std_d))"
   ]
  },
  {
   "cell_type": "markdown",
   "metadata": {},
   "source": [
    "Often times you might be interested in knowing the probability of drawing a certain value from a given distribution. For example, we take an image of a region of the sky and find that the background level has an average value of 100 electrons, with a standard deviation of 20 electrons (we will assume a Gaussian distribution). In part of the image we detect a signal of 145 electrons. How likely is it that the background could generate a signal this large? If it is highly unlikely, then we can safely assume that something else (e.g. a star, a galaxy) produced this signal. If we wanted to set a threshold such that less than 0.01% of the background pixels would exceed this threshold by random chance, what would the value of this threshold be?\n",
    "\n",
    "Python has built in functions that can perform these calculations. We first must create a Gaussian object with a given mean and standard deviation."
   ]
  },
  {
   "cell_type": "code",
   "execution_count": 27,
   "metadata": {},
   "outputs": [],
   "source": [
    "# We need to import the scipy.stats package first\n",
    "import scipy.stats\n",
    "\n",
    "# Create a Gaussian object with a given mean and standard deviation\n",
    "mean = 100\n",
    "standard_deviation = 20\n",
    "my_gauss_object = scipy.stats.norm(mean,standard_deviation)\n"
   ]
  },
  {
   "cell_type": "markdown",
   "metadata": {},
   "source": [
    "Once this object has been created, we can use it to perform various calculations"
   ]
  },
  {
   "cell_type": "code",
   "execution_count": 28,
   "metadata": {},
   "outputs": [
    {
     "name": "stdout",
     "output_type": "stream",
     "text": [
      "P(x>145): 0.012\n",
      "X, for which P(x<X) = 0.997: 154.96\n"
     ]
    }
   ],
   "source": [
    "#Probability of measuring a value of 145 or larger\n",
    "prob_greaterthan145 = my_gauss_object.sf(145)\n",
    "print('P(x>145): {:0.3f}'.format(prob_greaterthan145))\n",
    "\n",
    "#Value X, such that the probability of getting a value less than X is the input\n",
    "prob997_value = my_gauss_object.ppf(.997)\n",
    "print('X, for which P(x<X) = 0.997: {:0.2f}'.format(prob997_value))\n",
    "\n"
   ]
  },
  {
   "cell_type": "markdown",
   "metadata": {},
   "source": [
    "> **Q:** A recent image from our 24-inch telescope has a background level of 350 $\\pm$ 30 ADUs. Suppose you wanted to set a threshold such that only 0.001% of the background pixels in this image would randomly be brighter than this threshold. What threshold value would you choose?\n",
    "\n",
    "**477.9 ADU**"
   ]
  },
  {
   "cell_type": "code",
   "execution_count": 29,
   "metadata": {},
   "outputs": [
    {
     "data": {
      "text/plain": [
       "477.9467238177152"
      ]
     },
     "execution_count": 29,
     "metadata": {},
     "output_type": "execute_result"
    }
   ],
   "source": [
    "# Use this space to answer the above questions\n",
    "my_gauss_object = scipy.stats.norm(350,30)\n",
    "my_gauss_object.ppf(.99999)"
   ]
  },
  {
   "cell_type": "markdown",
   "metadata": {},
   "source": [
    "A similar thing can be done with a Poisson distribution."
   ]
  },
  {
   "cell_type": "code",
   "execution_count": 13,
   "metadata": {},
   "outputs": [
    {
     "name": "stdout",
     "output_type": "stream",
     "text": [
      "P(x>10): 0.00001\n",
      "X, for which P(x<X) = 0.997: 7.0\n"
     ]
    }
   ],
   "source": [
    "#Set up our Poisson distribution, with a given mean\n",
    "mu = 2\n",
    "my_poiss_dist = scipy.stats.poisson(mu)\n",
    "\n",
    "#Probability that a value drawn from this distribution is greater than or equal to 10\n",
    "prob_greaterthan10 = my_poiss_dist.sf(10)\n",
    "print('P(x>10): {:0.5f}'.format(prob_greaterthan10))\n",
    "\n",
    "#Value X, such that the probability of getting a value less than X is the input\n",
    "prob997_value = my_poiss_dist.ppf(.997)\n",
    "print('X, for which P(x<X) = 0.997: {}'.format(prob997_value))"
   ]
  },
  {
   "cell_type": "markdown",
   "metadata": {},
   "source": [
    "### Combining probability distributions\n",
    "\n",
    "Often we are concerned with the probability that multiple different events have occured simultaneously. What is the probability that the flux in one pixel is very high, and the flux in the pixel right next to it is also very high?\n",
    "\n",
    "Let's consider a simple example. Suppose you measure the distance to a particular star (star A) to be d=410$\\pm$30 pc. From other information you know that this star is part of a cluster of stars, and that the measured distance to this star is 350 pc. \n",
    "\n",
    "What is the probability of measuring the distance star A that you found, assuming that it is actually at 350 pc? This is the same as asking the question: if we had a Gaussian distribution with a mean of 350 and a standard deviation of 30, what is the probability that we would randomly draw the value 410 from this distribution? We can turn to our Gaussian object\n",
    "\n",
    "> **Q:** Modify the code block below to create the necessary Gaussian object. "
   ]
  },
  {
   "cell_type": "code",
   "execution_count": 14,
   "metadata": {},
   "outputs": [
    {
     "name": "stdout",
     "output_type": "stream",
     "text": [
      "P(dA=410) = 1.800e-03\n"
     ]
    }
   ],
   "source": [
    "da_gauss = scipy.stats.norm(350,30) #<-- Insert a mean of 350 and a standard deviation of 30 for this object\n",
    "\n",
    "#Calculate the probability of measuring a distance of 410. \n",
    "probA = da_gauss.pdf(410)\n",
    "print('P(dA=410) = {:0.3e}'.format(probA))"
   ]
  },
  {
   "cell_type": "markdown",
   "metadata": {},
   "source": [
    "Now suppose that you measured the distance to another star in the same cluster, and you found its distance to be d=450$\\pm$40 pc. Both of these are above the assumed distance of the cluster, but the uncertainties are large. What is the probability that we would make both of these measurements, assuming both stars are at a distance of 350pc?\n",
    "\n",
    "In that case we multiply the probabilities together:\n",
    "\n",
    "$P(d_A=410$ and $d_B=450) = P(d_A=410)*P(d_B=450)$\n",
    "\n",
    "> **Q:** What is the probability of measuring a distance of 450 pc for star B, assuming it is part of the cluster at 350 pc? What is the probability of measuring star A at a distance of 410 pc AND star B at a distance of 450 pc? Modify the code block below to answer these questions.\n"
   ]
  },
  {
   "cell_type": "code",
   "execution_count": 15,
   "metadata": {},
   "outputs": [
    {
     "name": "stdout",
     "output_type": "stream",
     "text": [
      "P(dA=410) = 4.382e-04\n",
      "P(dA=410 and dB=450) = 7.886e-07\n"
     ]
    }
   ],
   "source": [
    "db_gauss = scipy.stats.norm(350,40) #<-- Insert a mean of 350 and a standard deviation of 40 in this object\n",
    "\n",
    "probB = db_gauss.pdf(450)#Insert code to calculate the probability of measuring a distance of 450 pc for star B\n",
    "print('P(dA=410) = {:0.3e}'.format(probB))\n",
    "\n",
    "probAB = probA*probB\n",
    "print('P(dA=410 and dB=450) = {:0.3e}'.format(probAB))"
   ]
  },
  {
   "cell_type": "markdown",
   "metadata": {},
   "source": [
    "Now suppose that we measure the distances to a handful of other stars:\n",
    "\n",
    "|Star| Distance|\n",
    "|:----:|:---------:|\n",
    "|C   | 390$\\pm$30 pc|\n",
    "|D   | 420$\\pm$30 pc|\n",
    "|E   | 350$\\pm$80 pc|\n",
    "|F   | 450$\\pm$10 pc|\n",
    "\n",
    "\n",
    "With these additional measurements, you may start to notice that they are all larger than the previously estimated distance to the cluster. Maybe there is something wrong with that distance... Can we find a better distance estimate to the cluster?\n",
    "\n",
    "Assuming all of these stars are at the same distance, we can estimate the *most likely* distance to the cluster. To do this we can estimate the probability of measuring all of these distance for different values of the cluster distance. We can then determine the cluster distance for which the combined probability is the highest.\n",
    "\n",
    "> **Q:** The function below is desinged to calculate the combined probability of measuring the distances to all of these stars, assuming that they are all at the same distance. The function takes as an input the assumed common distance and returns the combined probability. Fill in the missing lines of the code to complete the function."
   ]
  },
  {
   "cell_type": "code",
   "execution_count": 23,
   "metadata": {},
   "outputs": [],
   "source": [
    "def calc_combined_prob(cluster_distance = 350): #<-- Modify this line so that it takes the cluster distance as the input, with a default value of 350.\n",
    "\n",
    "    distances = [410,450,390,420,350,450]\n",
    "    uncertainties = [30,40,30,30,80,10]#Create a list of the uncertainties\n",
    "\n",
    "\n",
    "    prob_total = 1\n",
    "    for i in range(len(distances)):\n",
    "        gauss_object = scipy.stats.norm(cluster_distance,uncertainties[i])#Insert code to create a Gaussian object with mean given by the cluster distance, and standard deviation given by the uncertainty to the particular star\n",
    "        prob_this_star = gauss_object.pdf(distances[i])#Insert code to use the created Gaussian object to estimate the probability of getting the measured distance to a star\n",
    "        prob_total *= prob_this_star #<- This line is equivalent to prob_total = prob_total * prob_this_star\n",
    "    \n",
    "    #Insert code here that returns the prob_total variable\n",
    "    return(prob_total)"
   ]
  },
  {
   "cell_type": "markdown",
   "metadata": {},
   "source": [
    "> **Q:** Using the above function, calculate the combined probabilities for each of the cluster distances below. What is the most likely distance of the cluster?\n",
    "\n",
    "|Cluster Distance (pc)| Probability|\n",
    "|:-------------------:|:----------:|\n",
    "|350|1.44e-37|\n",
    "|370|6.36e-28|\n",
    "|390|9.89e-21|\n",
    "|410|5.42e-16|\n",
    "|430|1.05e-13|\n",
    "|450|7.21e-14|\n",
    "|470|1.74e-16|\n",
    "|490|1.49e-21|\n",
    "\n",
    "The distance with the highest likelihood is 430 pc"
   ]
  },
  {
   "cell_type": "code",
   "execution_count": 24,
   "metadata": {},
   "outputs": [
    {
     "name": "stdout",
     "output_type": "stream",
     "text": [
      "Combined probability = 1.446e-37\n",
      "Combined probability = 6.362e-28\n",
      "Combined probability = 9.888e-21\n",
      "Combined probability = 5.428e-16\n",
      "Combined probability = 1.053e-13\n",
      "Combined probability = 7.209e-14\n",
      "Combined probability = 1.744e-16\n",
      "Combined probability = 1.490e-21\n"
     ]
    }
   ],
   "source": [
    "for cd in [350,370,390,410,430,450,470,490]:\n",
    "    print('Combined probability = {:0.3e}'.format(calc_combined_prob(cd)))"
   ]
  },
  {
   "cell_type": "markdown",
   "metadata": {},
   "source": [
    "With that you have done your first maximum likelihood estimate! These estimates are common when trying to determine the most likely parameters in a model. Here we used a simple model (all of the stars are at a common distance) but more complicated models are possible (the cluster has an ellipsoidal shape, within unknown sizes in each direction). The basic idea is that you have a set of data, and you have a model that predicts the relative probability of measuring different values of that data. You then vary the parameters of the model until you maximize the probability of obtaining the data.\n",
    "\n",
    "We can also relate what you have done to the concept of 'minimizing the chi-squared', which is something you may have heard of in other classes or in research.\n",
    "\n",
    "Consider what we have done as a formula. The combined probability of measuring the distances to all of these stars is:\n",
    "\n",
    "$P_{total} = P(d_A|d_{cluster})P(d_B|d_{cluster})P(d_C|d_{cluster})P(d_D|d_{cluster})P(d_E|d_{cluster})P(d_F|d_{cluster})$\n",
    "\n",
    "where $d_A$ is the distance to star A, $d_{cluster}$ is the distance to the cluster, and $P(d_A|d_{cluster})$ is the probability of measuring star A at a distance $d_A$ assuming it is actually at a distance $d_{cluster}$\n",
    "\n",
    "Each of these probabilities are given by Gaussian distributions\n",
    "\n",
    "$P(d_A) \\propto \\exp(-(d_A-d_{cluster})/2\\sigma_A^2)$\n",
    "\n",
    "where $\\sigma_A$ is the uncertainty on our distance measurement. If we combine all of the probabilities, we are multiplying a set of exponentials, which can be written in shortened form as:\n",
    "\n",
    "$P_{total} \\propto \\prod_{i=1}^{n} \\exp(-(d_i-d_{cluster})/2\\sigma_i^2)$\n",
    "\n",
    "where the $i$ index loops over all of the stars.\n",
    "\n",
    "Multiplying exponentials is equivalent to summing the exponent\n",
    "\n",
    "$P_{total} \\propto \\prod_{i=1}^{n} \\exp(-(d_i-d_{cluster})/2\\sigma_i^2) = \\exp(-\\frac{1}{2}\\sum_{i=1}^{n}(d_i-d_{cluster})/\\sigma_i^2)$\n",
    "\n",
    "$P_{total} \\propto \\exp(-\\frac{1}{2}\\chi^2)$\n",
    "\n",
    "where we have defined $\\chi^2 = \\sum_{i=1}^{n}(d_i-d_{cluster}/\\sigma_i^2)$. Maximizing the probability of a model is equivalent to mimizing the $\\chi^2$! (under the assumption of Gaussian uncertainties)\n"
   ]
  },
  {
   "cell_type": "markdown",
   "metadata": {},
   "source": [
    "**Stop Here**\n",
    "\n",
    "Complete Part 2 of the code recall activity. Email this notebook, the code recall activity, and the pseudo-code acitivity to kmf4@williams.edu"
   ]
  }
 ],
 "metadata": {
  "kernelspec": {
   "display_name": "Python 3",
   "language": "python",
   "name": "python3"
  },
  "language_info": {
   "codemirror_mode": {
    "name": "ipython",
    "version": 3
   },
   "file_extension": ".py",
   "mimetype": "text/x-python",
   "name": "python",
   "nbconvert_exporter": "python",
   "pygments_lexer": "ipython3",
   "version": "3.7.3"
  }
 },
 "nbformat": 4,
 "nbformat_minor": 2
}
